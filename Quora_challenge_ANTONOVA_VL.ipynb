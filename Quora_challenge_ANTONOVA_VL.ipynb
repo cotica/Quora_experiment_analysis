{
 "cells": [
  {
   "cell_type": "markdown",
   "metadata": {},
   "source": [
    "# Quora analyst challenge - completed by Veronica L Antonova\n",
    "\n",
    "\n",
    "## Assignment\n",
    "\n",
    "Suppose you are a Data Scientist on the Mobile team at Quora. The team has just introduced a new UI design to the Quora app. The goal of the new design is to increase user engagement (measured by minutes spent on site). The team ran an A/B test to evaluate the change. Using the data, help the team understand the impact of the UI change better.\n",
    "\n",
    "_Complete assignment instructions can be found on:_\n",
    "\n",
    "[Quora analyst challenge on Google Forms](https://docs.google.com/forms/d/e/1FAIpQLSeYi6KKkTy476h_VZnO01LhvCSHOmCjvs553oegtsSGycQeeA/formResponse)\n",
    "\n",
    "_All files from:_\n",
    "\n",
    "[Quora analyst challenge - files](https://app.box.com/s/k3forvxur79vatxbwja1qwk3b1u9arwv)"
   ]
  },
  {
   "cell_type": "markdown",
   "metadata": {},
   "source": [
    "## Libraries\n",
    "\n",
    "_Documentation and usage guidance from: [SciPy](https://docs.scipy.org/doc/scipy/reference/generated/scipy.stats.ttest_ind.html), [ResearchPy](https://www.pythonfordatascience.org/independent-samples-t-test-python/)_"
   ]
  },
  {
   "cell_type": "code",
   "execution_count": 1,
   "metadata": {
    "ExecuteTime": {
     "end_time": "2021-10-01T05:26:48.572356Z",
     "start_time": "2021-10-01T05:26:38.434253Z"
    }
   },
   "outputs": [
    {
     "name": "stdout",
     "output_type": "stream",
     "text": [
      "Requirement already satisfied: researchpy in /opt/anaconda3/lib/python3.8/site-packages (0.3.2)\n",
      "Requirement already satisfied: statsmodels in /opt/anaconda3/lib/python3.8/site-packages (from researchpy) (0.11.1)\n",
      "Requirement already satisfied: pandas in /opt/anaconda3/lib/python3.8/site-packages (from researchpy) (1.0.5)\n",
      "Requirement already satisfied: numpy in /opt/anaconda3/lib/python3.8/site-packages (from researchpy) (1.19.5)\n",
      "Requirement already satisfied: patsy in /opt/anaconda3/lib/python3.8/site-packages (from researchpy) (0.5.1)\n",
      "Requirement already satisfied: scipy in /opt/anaconda3/lib/python3.8/site-packages (from researchpy) (1.5.0)\n",
      "Requirement already satisfied: pytz>=2017.2 in /opt/anaconda3/lib/python3.8/site-packages (from pandas->researchpy) (2020.1)\n",
      "Requirement already satisfied: python-dateutil>=2.6.1 in /opt/anaconda3/lib/python3.8/site-packages (from pandas->researchpy) (2.8.1)\n",
      "Requirement already satisfied: six in /opt/anaconda3/lib/python3.8/site-packages (from patsy->researchpy) (1.15.0)\n"
     ]
    }
   ],
   "source": [
    "! pip install researchpy"
   ]
  },
  {
   "cell_type": "code",
   "execution_count": 2,
   "metadata": {
    "ExecuteTime": {
     "end_time": "2021-10-01T05:26:52.854082Z",
     "start_time": "2021-10-01T05:26:48.576389Z"
    }
   },
   "outputs": [],
   "source": [
    "import researchpy as rp, scipy.stats as stats, pandas as pd, \\\n",
    "matplotlib.pyplot as plt"
   ]
  },
  {
   "cell_type": "markdown",
   "metadata": {},
   "source": [
    "## General reference\n",
    "\n",
    "[Stats refresher](https://www.scribbr.com/statistics/t-test/)"
   ]
  },
  {
   "cell_type": "markdown",
   "metadata": {},
   "source": [
    "## File imports"
   ]
  },
  {
   "cell_type": "markdown",
   "metadata": {},
   "source": [
    "### Data dictionary\n",
    "\n",
    "_From the schema file:_\n",
    "\n",
    "Table Schema\n",
    "\n",
    "t1_user_active_min.csv\n",
    "This table contains active minutes data logged after experiment started.\n",
    "Each row represents the total number of minutes spent on site for each user on a date.\n",
    "If a user never visited the site for a given date, there wouldn't be data for that uid on that date.\n",
    "- uid: user ID\n",
    "- dt: date when corresponding active minutes are registered\n",
    "- active_mins: number of minutes spent on site for the date\n",
    "\n",
    "t2_user_variant.csv\n",
    "This table contains users’ treatment assignment.\n",
    "Each row represents the assignment information for a unique user.\n",
    "- uid: user ID\n",
    "- variant_number: the experiment variant user is in. 0 for control, 1 for treatment\n",
    "- dt: date when user entered the experiment, should be ‘2019-02-06’ for all users\n",
    "- signup_date: the date string that user signed up on\n",
    "  \n",
    "t3_user_active_min_pre.csv\n",
    "This table contains active minutes data before the experiment started.\n",
    "It has a similar format as t1, except the dt range can extend before the experiment start date.\n",
    "- uid: user ID\n",
    "- dt: date when corresponding active minutes are registered\n",
    "- active_mins: number of minutes spent on site for the date\n",
    "\n",
    "t4_user_attributes.csv\n",
    "This table contains data about some user attributes.\n",
    "Each row represents attributes of a unique user.\n",
    "- uid: user ID\n",
    "- user_type: segment that a user belongs to, measured by activity level of the user. Can be ‘new_user’, ‘non_reader’, ‘reader’ or ‘contributor’\n",
    "- gender: user gender. Can be ‘male’, ‘female’ or ‘unknown’"
   ]
  },
  {
   "cell_type": "markdown",
   "metadata": {},
   "source": [
    "### Reading in files"
   ]
  },
  {
   "cell_type": "code",
   "execution_count": 3,
   "metadata": {
    "ExecuteTime": {
     "end_time": "2021-10-01T05:26:53.471627Z",
     "start_time": "2021-10-01T05:26:52.857585Z"
    }
   },
   "outputs": [],
   "source": [
    "t1 = pd.read_csv('quora_data_challenge/t1_user_active_min.csv')"
   ]
  },
  {
   "cell_type": "code",
   "execution_count": 4,
   "metadata": {
    "ExecuteTime": {
     "end_time": "2021-10-01T05:26:53.532663Z",
     "start_time": "2021-10-01T05:26:53.480203Z"
    }
   },
   "outputs": [
    {
     "data": {
      "text/html": [
       "<div>\n",
       "<style scoped>\n",
       "    .dataframe tbody tr th:only-of-type {\n",
       "        vertical-align: middle;\n",
       "    }\n",
       "\n",
       "    .dataframe tbody tr th {\n",
       "        vertical-align: top;\n",
       "    }\n",
       "\n",
       "    .dataframe thead th {\n",
       "        text-align: right;\n",
       "    }\n",
       "</style>\n",
       "<table border=\"1\" class=\"dataframe\">\n",
       "  <thead>\n",
       "    <tr style=\"text-align: right;\">\n",
       "      <th></th>\n",
       "      <th>uid</th>\n",
       "      <th>dt</th>\n",
       "      <th>active_mins</th>\n",
       "    </tr>\n",
       "  </thead>\n",
       "  <tbody>\n",
       "    <tr>\n",
       "      <th>0</th>\n",
       "      <td>0</td>\n",
       "      <td>2019-02-22</td>\n",
       "      <td>5.0</td>\n",
       "    </tr>\n",
       "    <tr>\n",
       "      <th>1</th>\n",
       "      <td>0</td>\n",
       "      <td>2019-03-11</td>\n",
       "      <td>5.0</td>\n",
       "    </tr>\n",
       "    <tr>\n",
       "      <th>2</th>\n",
       "      <td>0</td>\n",
       "      <td>2019-03-18</td>\n",
       "      <td>3.0</td>\n",
       "    </tr>\n",
       "    <tr>\n",
       "      <th>3</th>\n",
       "      <td>0</td>\n",
       "      <td>2019-03-22</td>\n",
       "      <td>4.0</td>\n",
       "    </tr>\n",
       "    <tr>\n",
       "      <th>4</th>\n",
       "      <td>0</td>\n",
       "      <td>2019-04-03</td>\n",
       "      <td>9.0</td>\n",
       "    </tr>\n",
       "  </tbody>\n",
       "</table>\n",
       "</div>"
      ],
      "text/plain": [
       "   uid          dt  active_mins\n",
       "0    0  2019-02-22          5.0\n",
       "1    0  2019-03-11          5.0\n",
       "2    0  2019-03-18          3.0\n",
       "3    0  2019-03-22          4.0\n",
       "4    0  2019-04-03          9.0"
      ]
     },
     "execution_count": 4,
     "metadata": {},
     "output_type": "execute_result"
    }
   ],
   "source": [
    "t1.head()"
   ]
  },
  {
   "cell_type": "code",
   "execution_count": 5,
   "metadata": {
    "ExecuteTime": {
     "end_time": "2021-10-01T05:26:53.650564Z",
     "start_time": "2021-10-01T05:26:53.549051Z"
    }
   },
   "outputs": [],
   "source": [
    "t2 = pd.read_csv('quora_data_challenge/t2_user_variant.csv')"
   ]
  },
  {
   "cell_type": "code",
   "execution_count": 6,
   "metadata": {
    "ExecuteTime": {
     "end_time": "2021-10-01T05:26:53.680124Z",
     "start_time": "2021-10-01T05:26:53.654760Z"
    },
    "scrolled": true
   },
   "outputs": [
    {
     "data": {
      "text/html": [
       "<div>\n",
       "<style scoped>\n",
       "    .dataframe tbody tr th:only-of-type {\n",
       "        vertical-align: middle;\n",
       "    }\n",
       "\n",
       "    .dataframe tbody tr th {\n",
       "        vertical-align: top;\n",
       "    }\n",
       "\n",
       "    .dataframe thead th {\n",
       "        text-align: right;\n",
       "    }\n",
       "</style>\n",
       "<table border=\"1\" class=\"dataframe\">\n",
       "  <thead>\n",
       "    <tr style=\"text-align: right;\">\n",
       "      <th></th>\n",
       "      <th>uid</th>\n",
       "      <th>variant_number</th>\n",
       "      <th>dt</th>\n",
       "      <th>signup_date</th>\n",
       "    </tr>\n",
       "  </thead>\n",
       "  <tbody>\n",
       "    <tr>\n",
       "      <th>0</th>\n",
       "      <td>0</td>\n",
       "      <td>0</td>\n",
       "      <td>2019-02-06</td>\n",
       "      <td>2018-09-24</td>\n",
       "    </tr>\n",
       "    <tr>\n",
       "      <th>1</th>\n",
       "      <td>1</td>\n",
       "      <td>0</td>\n",
       "      <td>2019-02-06</td>\n",
       "      <td>2016-11-07</td>\n",
       "    </tr>\n",
       "    <tr>\n",
       "      <th>2</th>\n",
       "      <td>2</td>\n",
       "      <td>0</td>\n",
       "      <td>2019-02-06</td>\n",
       "      <td>2018-09-17</td>\n",
       "    </tr>\n",
       "    <tr>\n",
       "      <th>3</th>\n",
       "      <td>3</td>\n",
       "      <td>0</td>\n",
       "      <td>2019-02-06</td>\n",
       "      <td>2018-03-04</td>\n",
       "    </tr>\n",
       "    <tr>\n",
       "      <th>4</th>\n",
       "      <td>4</td>\n",
       "      <td>0</td>\n",
       "      <td>2019-02-06</td>\n",
       "      <td>2017-03-09</td>\n",
       "    </tr>\n",
       "  </tbody>\n",
       "</table>\n",
       "</div>"
      ],
      "text/plain": [
       "   uid  variant_number          dt signup_date\n",
       "0    0               0  2019-02-06  2018-09-24\n",
       "1    1               0  2019-02-06  2016-11-07\n",
       "2    2               0  2019-02-06  2018-09-17\n",
       "3    3               0  2019-02-06  2018-03-04\n",
       "4    4               0  2019-02-06  2017-03-09"
      ]
     },
     "execution_count": 6,
     "metadata": {},
     "output_type": "execute_result"
    }
   ],
   "source": [
    "t2.head()"
   ]
  },
  {
   "cell_type": "code",
   "execution_count": 7,
   "metadata": {
    "ExecuteTime": {
     "end_time": "2021-10-01T05:26:54.585231Z",
     "start_time": "2021-10-01T05:26:53.686899Z"
    }
   },
   "outputs": [],
   "source": [
    "t3 = pd.read_csv('quora_data_challenge/t3_user_active_min_pre.csv')"
   ]
  },
  {
   "cell_type": "code",
   "execution_count": 8,
   "metadata": {
    "ExecuteTime": {
     "end_time": "2021-10-01T05:26:54.610656Z",
     "start_time": "2021-10-01T05:26:54.589775Z"
    }
   },
   "outputs": [
    {
     "data": {
      "text/html": [
       "<div>\n",
       "<style scoped>\n",
       "    .dataframe tbody tr th:only-of-type {\n",
       "        vertical-align: middle;\n",
       "    }\n",
       "\n",
       "    .dataframe tbody tr th {\n",
       "        vertical-align: top;\n",
       "    }\n",
       "\n",
       "    .dataframe thead th {\n",
       "        text-align: right;\n",
       "    }\n",
       "</style>\n",
       "<table border=\"1\" class=\"dataframe\">\n",
       "  <thead>\n",
       "    <tr style=\"text-align: right;\">\n",
       "      <th></th>\n",
       "      <th>uid</th>\n",
       "      <th>dt</th>\n",
       "      <th>active_mins</th>\n",
       "    </tr>\n",
       "  </thead>\n",
       "  <tbody>\n",
       "    <tr>\n",
       "      <th>0</th>\n",
       "      <td>0</td>\n",
       "      <td>2018-09-24</td>\n",
       "      <td>3.0</td>\n",
       "    </tr>\n",
       "    <tr>\n",
       "      <th>1</th>\n",
       "      <td>0</td>\n",
       "      <td>2018-11-08</td>\n",
       "      <td>4.0</td>\n",
       "    </tr>\n",
       "    <tr>\n",
       "      <th>2</th>\n",
       "      <td>0</td>\n",
       "      <td>2018-11-24</td>\n",
       "      <td>3.0</td>\n",
       "    </tr>\n",
       "    <tr>\n",
       "      <th>3</th>\n",
       "      <td>0</td>\n",
       "      <td>2018-11-28</td>\n",
       "      <td>6.0</td>\n",
       "    </tr>\n",
       "    <tr>\n",
       "      <th>4</th>\n",
       "      <td>0</td>\n",
       "      <td>2018-12-02</td>\n",
       "      <td>6.0</td>\n",
       "    </tr>\n",
       "  </tbody>\n",
       "</table>\n",
       "</div>"
      ],
      "text/plain": [
       "   uid          dt  active_mins\n",
       "0    0  2018-09-24          3.0\n",
       "1    0  2018-11-08          4.0\n",
       "2    0  2018-11-24          3.0\n",
       "3    0  2018-11-28          6.0\n",
       "4    0  2018-12-02          6.0"
      ]
     },
     "execution_count": 8,
     "metadata": {},
     "output_type": "execute_result"
    }
   ],
   "source": [
    "t3.head()"
   ]
  },
  {
   "cell_type": "code",
   "execution_count": 9,
   "metadata": {
    "ExecuteTime": {
     "end_time": "2021-10-01T05:26:54.656973Z",
     "start_time": "2021-10-01T05:26:54.618521Z"
    }
   },
   "outputs": [],
   "source": [
    "t4 = pd.read_csv('quora_data_challenge/t4_user_attributes.csv')"
   ]
  },
  {
   "cell_type": "code",
   "execution_count": 10,
   "metadata": {
    "ExecuteTime": {
     "end_time": "2021-10-01T05:26:54.677741Z",
     "start_time": "2021-10-01T05:26:54.659782Z"
    },
    "scrolled": true
   },
   "outputs": [
    {
     "data": {
      "text/html": [
       "<div>\n",
       "<style scoped>\n",
       "    .dataframe tbody tr th:only-of-type {\n",
       "        vertical-align: middle;\n",
       "    }\n",
       "\n",
       "    .dataframe tbody tr th {\n",
       "        vertical-align: top;\n",
       "    }\n",
       "\n",
       "    .dataframe thead th {\n",
       "        text-align: right;\n",
       "    }\n",
       "</style>\n",
       "<table border=\"1\" class=\"dataframe\">\n",
       "  <thead>\n",
       "    <tr style=\"text-align: right;\">\n",
       "      <th></th>\n",
       "      <th>uid</th>\n",
       "      <th>gender</th>\n",
       "      <th>user_type</th>\n",
       "    </tr>\n",
       "  </thead>\n",
       "  <tbody>\n",
       "    <tr>\n",
       "      <th>0</th>\n",
       "      <td>0</td>\n",
       "      <td>male</td>\n",
       "      <td>non_reader</td>\n",
       "    </tr>\n",
       "    <tr>\n",
       "      <th>1</th>\n",
       "      <td>1</td>\n",
       "      <td>male</td>\n",
       "      <td>reader</td>\n",
       "    </tr>\n",
       "    <tr>\n",
       "      <th>2</th>\n",
       "      <td>2</td>\n",
       "      <td>male</td>\n",
       "      <td>non_reader</td>\n",
       "    </tr>\n",
       "    <tr>\n",
       "      <th>3</th>\n",
       "      <td>3</td>\n",
       "      <td>male</td>\n",
       "      <td>non_reader</td>\n",
       "    </tr>\n",
       "    <tr>\n",
       "      <th>4</th>\n",
       "      <td>4</td>\n",
       "      <td>male</td>\n",
       "      <td>non_reader</td>\n",
       "    </tr>\n",
       "  </tbody>\n",
       "</table>\n",
       "</div>"
      ],
      "text/plain": [
       "   uid gender   user_type\n",
       "0    0   male  non_reader\n",
       "1    1   male      reader\n",
       "2    2   male  non_reader\n",
       "3    3   male  non_reader\n",
       "4    4   male  non_reader"
      ]
     },
     "execution_count": 10,
     "metadata": {},
     "output_type": "execute_result"
    }
   ],
   "source": [
    "t4.head()"
   ]
  },
  {
   "cell_type": "markdown",
   "metadata": {},
   "source": [
    "## Preliminary exploratory data analysis\n",
    "\n",
    "_What we can see prior to running any additional statistical analysis._"
   ]
  },
  {
   "cell_type": "markdown",
   "metadata": {},
   "source": [
    "Let's understand the contents of our data sets some more."
   ]
  },
  {
   "cell_type": "code",
   "execution_count": 11,
   "metadata": {
    "ExecuteTime": {
     "end_time": "2021-10-01T05:26:54.770391Z",
     "start_time": "2021-10-01T05:26:54.683420Z"
    }
   },
   "outputs": [
    {
     "name": "stdout",
     "output_type": "stream",
     "text": [
      "<class 'pandas.core.frame.DataFrame'>\n",
      "RangeIndex: 1066402 entries, 0 to 1066401\n",
      "Data columns (total 3 columns):\n",
      " #   Column       Non-Null Count    Dtype  \n",
      "---  ------       --------------    -----  \n",
      " 0   uid          1066402 non-null  int64  \n",
      " 1   dt           1066402 non-null  object \n",
      " 2   active_mins  1066402 non-null  float64\n",
      "dtypes: float64(1), int64(1), object(1)\n",
      "memory usage: 24.4+ MB\n"
     ]
    }
   ],
   "source": [
    "t1.info()"
   ]
  },
  {
   "cell_type": "code",
   "execution_count": 12,
   "metadata": {
    "ExecuteTime": {
     "end_time": "2021-10-01T05:26:54.878113Z",
     "start_time": "2021-10-01T05:26:54.775978Z"
    },
    "scrolled": true
   },
   "outputs": [
    {
     "name": "stdout",
     "output_type": "stream",
     "text": [
      "<class 'pandas.core.frame.DataFrame'>\n",
      "RangeIndex: 1190093 entries, 0 to 1190092\n",
      "Data columns (total 3 columns):\n",
      " #   Column       Non-Null Count    Dtype  \n",
      "---  ------       --------------    -----  \n",
      " 0   uid          1190093 non-null  int64  \n",
      " 1   dt           1190093 non-null  object \n",
      " 2   active_mins  1190093 non-null  float64\n",
      "dtypes: float64(1), int64(1), object(1)\n",
      "memory usage: 27.2+ MB\n"
     ]
    }
   ],
   "source": [
    "t3.info()"
   ]
  },
  {
   "cell_type": "markdown",
   "metadata": {},
   "source": [
    "1. What is the average of active minutes (measuring engagement) in our post-launch user sample?"
   ]
  },
  {
   "cell_type": "code",
   "execution_count": 13,
   "metadata": {
    "ExecuteTime": {
     "end_time": "2021-10-01T05:26:54.908777Z",
     "start_time": "2021-10-01T05:26:54.893700Z"
    }
   },
   "outputs": [
    {
     "data": {
      "text/plain": [
       "36.16809139517743"
      ]
     },
     "execution_count": 13,
     "metadata": {},
     "output_type": "execute_result"
    }
   ],
   "source": [
    "t1.active_mins.mean()"
   ]
  },
  {
   "cell_type": "markdown",
   "metadata": {},
   "source": [
    "And the distribution of the minutes:"
   ]
  },
  {
   "cell_type": "code",
   "execution_count": 14,
   "metadata": {
    "ExecuteTime": {
     "end_time": "2021-10-01T05:26:55.345795Z",
     "start_time": "2021-10-01T05:26:54.928812Z"
    }
   },
   "outputs": [
    {
     "data": {
      "text/html": [
       "<div>\n",
       "<style scoped>\n",
       "    .dataframe tbody tr th:only-of-type {\n",
       "        vertical-align: middle;\n",
       "    }\n",
       "\n",
       "    .dataframe tbody tr th {\n",
       "        vertical-align: top;\n",
       "    }\n",
       "\n",
       "    .dataframe thead th {\n",
       "        text-align: right;\n",
       "    }\n",
       "</style>\n",
       "<table border=\"1\" class=\"dataframe\">\n",
       "  <thead>\n",
       "    <tr style=\"text-align: right;\">\n",
       "      <th></th>\n",
       "      <th>dt</th>\n",
       "      <th>active_mins</th>\n",
       "    </tr>\n",
       "  </thead>\n",
       "  <tbody>\n",
       "    <tr>\n",
       "      <th>699598</th>\n",
       "      <td>2019-05-19</td>\n",
       "      <td>99999.0</td>\n",
       "    </tr>\n",
       "    <tr>\n",
       "      <th>424289</th>\n",
       "      <td>2019-03-10</td>\n",
       "      <td>99999.0</td>\n",
       "    </tr>\n",
       "    <tr>\n",
       "      <th>69742</th>\n",
       "      <td>2019-05-10</td>\n",
       "      <td>99999.0</td>\n",
       "    </tr>\n",
       "    <tr>\n",
       "      <th>69745</th>\n",
       "      <td>2019-05-16</td>\n",
       "      <td>99999.0</td>\n",
       "    </tr>\n",
       "    <tr>\n",
       "      <th>1057133</th>\n",
       "      <td>2019-03-10</td>\n",
       "      <td>99999.0</td>\n",
       "    </tr>\n",
       "  </tbody>\n",
       "</table>\n",
       "</div>"
      ],
      "text/plain": [
       "                 dt  active_mins\n",
       "699598   2019-05-19      99999.0\n",
       "424289   2019-03-10      99999.0\n",
       "69742    2019-05-10      99999.0\n",
       "69745    2019-05-16      99999.0\n",
       "1057133  2019-03-10      99999.0"
      ]
     },
     "execution_count": 14,
     "metadata": {},
     "output_type": "execute_result"
    }
   ],
   "source": [
    "t1[['dt','active_mins']].sort_values(\n",
    "    by='active_mins',ascending=False).head()\n",
    "\n",
    "#we also need user count for each date, for accuracy!\n",
    "#df1.[[\"Name\"]].count(): https://www.datasciencemadesimple.com/count-function-python-pandas/"
   ]
  },
  {
   "cell_type": "code",
   "execution_count": 15,
   "metadata": {
    "ExecuteTime": {
     "end_time": "2021-10-01T05:27:09.139417Z",
     "start_time": "2021-10-01T05:26:55.364793Z"
    }
   },
   "outputs": [
    {
     "name": "stdout",
     "output_type": "stream",
     "text": [
      "    user_count          dt  max_time_spent\n",
      "0         6244  2019-07-05         99999.0\n",
      "1         6305  2019-07-04         99999.0\n",
      "2         6355  2019-07-03         99999.0\n",
      "3         6218  2019-07-01         99999.0\n",
      "4         6352  2019-06-30         99999.0\n",
      "..         ...         ...             ...\n",
      "95        8366  2019-02-08         99999.0\n",
      "96        8440  2019-02-07         99999.0\n",
      "97        7057  2019-04-03           896.0\n",
      "98        7142  2019-04-14           895.0\n",
      "99        8675  2019-02-06           894.0\n",
      "\n",
      "[100 rows x 3 columns]\n"
     ]
    }
   ],
   "source": [
    "#strategy:\n",
    "# get count of users, total number of active minutes per day\n",
    "\n",
    "from pandasql import sqldf\n",
    "\n",
    "pysqldf = lambda q: sqldf(q, globals())\n",
    "\n",
    "def pysqldf(q):\n",
    "    #add this to your script if you get tired of calling locals()\n",
    "    return sqldf(q, globals())\n",
    "\n",
    "\n",
    "q = \"\"\"\n",
    "    SELECT COUNT(uid) AS user_count, dt,\n",
    "      --  SUM(active_mins) AS total_mins\n",
    "      --  AVG(active_mins) AS avg_time_spent\n",
    "        MAX(active_mins) AS max_time_spent\n",
    "    \n",
    "    FROM t1\n",
    " \n",
    "           GROUP BY dt\n",
    "        --   ORDER BY total_mins DESC\n",
    "           ORDER BY max_time_spent DESC\n",
    "                 \n",
    "              \n",
    "\"\"\"\n",
    "\n",
    "print(pysqldf(q).head(100))"
   ]
  },
  {
   "cell_type": "code",
   "execution_count": 16,
   "metadata": {
    "ExecuteTime": {
     "end_time": "2021-10-01T05:27:09.745988Z",
     "start_time": "2021-10-01T05:27:09.145214Z"
    },
    "scrolled": true
   },
   "outputs": [
    {
     "data": {
      "image/png": "[encoded data removed]",
      "text/plain": [
       "<Figure size 432x288 with 1 Axes>"
      ]
     },
     "metadata": {
      "needs_background": "light"
     },
     "output_type": "display_data"
    }
   ],
   "source": [
    "t1['active_mins'].hist();\n",
    "plt.title('Distribution of minutes engaged per day', size=14);\n",
    "plt.xlabel('Number of minutes', size=14)\n",
    "plt.ylabel('Number of observations (dates)', size=14);"
   ]
  },
  {
   "cell_type": "markdown",
   "metadata": {},
   "source": [
    "We can see some really weird outliers. There are only"
   ]
  },
  {
   "cell_type": "code",
   "execution_count": 17,
   "metadata": {
    "ExecuteTime": {
     "end_time": "2021-10-01T05:27:09.764084Z",
     "start_time": "2021-10-01T05:27:09.754355Z"
    }
   },
   "outputs": [
    {
     "data": {
      "text/plain": [
       "1440"
      ]
     },
     "execution_count": 17,
     "metadata": {},
     "output_type": "execute_result"
    }
   ],
   "source": [
    "60*24"
   ]
  },
  {
   "cell_type": "markdown",
   "metadata": {},
   "source": [
    "minutes in a given day. So we know, there are some issues with the data!"
   ]
  },
  {
   "cell_type": "markdown",
   "metadata": {},
   "source": [
    "2. How many variants are there? (There should only be two, the test and the control.) How many members in each variant?"
   ]
  },
  {
   "cell_type": "code",
   "execution_count": 18,
   "metadata": {
    "ExecuteTime": {
     "end_time": "2021-10-01T05:27:09.788805Z",
     "start_time": "2021-10-01T05:27:09.773949Z"
    },
    "scrolled": true
   },
   "outputs": [
    {
     "data": {
      "text/plain": [
       "0    40000\n",
       "1    10000\n",
       "Name: variant_number, dtype: int64"
      ]
     },
     "execution_count": 18,
     "metadata": {},
     "output_type": "execute_result"
    }
   ],
   "source": [
    "t2.variant_number.value_counts()"
   ]
  },
  {
   "cell_type": "markdown",
   "metadata": {},
   "source": [
    "From the above, we see 1:4 ratio, where the vast majority of users are in the control group in this rollout, and only 20% are assigned to test."
   ]
  },
  {
   "cell_type": "markdown",
   "metadata": {},
   "source": [
    "3. What is the average of active minutes (measuring engagement) in the pre-launch sample?"
   ]
  },
  {
   "cell_type": "code",
   "execution_count": 19,
   "metadata": {
    "ExecuteTime": {
     "end_time": "2021-10-01T05:27:09.813841Z",
     "start_time": "2021-10-01T05:27:09.802918Z"
    }
   },
   "outputs": [
    {
     "data": {
      "text/plain": [
       "32.20315051008619"
      ]
     },
     "execution_count": 19,
     "metadata": {},
     "output_type": "execute_result"
    }
   ],
   "source": [
    "t3.active_mins.mean()"
   ]
  },
  {
   "cell_type": "markdown",
   "metadata": {},
   "source": [
    "Right off the bet, we can see that the average time spent has increased after the launch, although it is not, yet, isolated for just the experiment group.\n",
    "\n",
    "Let's do a sanity check on the outliers here as well:"
   ]
  },
  {
   "cell_type": "code",
   "execution_count": 20,
   "metadata": {
    "ExecuteTime": {
     "end_time": "2021-10-01T05:27:10.189472Z",
     "start_time": "2021-10-01T05:27:09.821628Z"
    }
   },
   "outputs": [
    {
     "data": {
      "text/html": [
       "<div>\n",
       "<style scoped>\n",
       "    .dataframe tbody tr th:only-of-type {\n",
       "        vertical-align: middle;\n",
       "    }\n",
       "\n",
       "    .dataframe tbody tr th {\n",
       "        vertical-align: top;\n",
       "    }\n",
       "\n",
       "    .dataframe thead th {\n",
       "        text-align: right;\n",
       "    }\n",
       "</style>\n",
       "<table border=\"1\" class=\"dataframe\">\n",
       "  <thead>\n",
       "    <tr style=\"text-align: right;\">\n",
       "      <th></th>\n",
       "      <th>dt</th>\n",
       "      <th>active_mins</th>\n",
       "    </tr>\n",
       "  </thead>\n",
       "  <tbody>\n",
       "    <tr>\n",
       "      <th>983858</th>\n",
       "      <td>2019-01-19</td>\n",
       "      <td>99999.0</td>\n",
       "    </tr>\n",
       "    <tr>\n",
       "      <th>934998</th>\n",
       "      <td>2019-01-02</td>\n",
       "      <td>99999.0</td>\n",
       "    </tr>\n",
       "    <tr>\n",
       "      <th>357481</th>\n",
       "      <td>2018-09-18</td>\n",
       "      <td>99999.0</td>\n",
       "    </tr>\n",
       "    <tr>\n",
       "      <th>211059</th>\n",
       "      <td>2019-01-19</td>\n",
       "      <td>99999.0</td>\n",
       "    </tr>\n",
       "    <tr>\n",
       "      <th>293885</th>\n",
       "      <td>2019-01-02</td>\n",
       "      <td>99999.0</td>\n",
       "    </tr>\n",
       "  </tbody>\n",
       "</table>\n",
       "</div>"
      ],
      "text/plain": [
       "                dt  active_mins\n",
       "983858  2019-01-19      99999.0\n",
       "934998  2019-01-02      99999.0\n",
       "357481  2018-09-18      99999.0\n",
       "211059  2019-01-19      99999.0\n",
       "293885  2019-01-02      99999.0"
      ]
     },
     "execution_count": 20,
     "metadata": {},
     "output_type": "execute_result"
    }
   ],
   "source": [
    "t3[['dt','active_mins']].sort_values(\n",
    "    by='active_mins',ascending=False).head()"
   ]
  },
  {
   "cell_type": "markdown",
   "metadata": {},
   "source": [
    "Unfortunately, same issue here, which will need to be addressed with cleaning."
   ]
  },
  {
   "cell_type": "markdown",
   "metadata": {},
   "source": [
    "4. Let's understand the user types and distributions we are dealing with."
   ]
  },
  {
   "cell_type": "code",
   "execution_count": 21,
   "metadata": {
    "ExecuteTime": {
     "end_time": "2021-10-01T05:27:10.223054Z",
     "start_time": "2021-10-01T05:27:10.192403Z"
    },
    "scrolled": true
   },
   "outputs": [
    {
     "data": {
      "text/plain": [
       "male       27757\n",
       "female     14477\n",
       "unknown     7766\n",
       "Name: gender, dtype: int64"
      ]
     },
     "execution_count": 21,
     "metadata": {},
     "output_type": "execute_result"
    }
   ],
   "source": [
    "t4.gender.value_counts()"
   ]
  },
  {
   "cell_type": "markdown",
   "metadata": {},
   "source": [
    "I am making a quick observation about the disparity in genders here. However, this may just be the distribution of users on the Quora site and not experiment specific, but we might beware of some bias if that isn't the case."
   ]
  },
  {
   "cell_type": "code",
   "execution_count": 22,
   "metadata": {
    "ExecuteTime": {
     "end_time": "2021-10-01T05:27:10.246316Z",
     "start_time": "2021-10-01T05:27:10.226294Z"
    }
   },
   "outputs": [
    {
     "data": {
      "text/plain": [
       "non_reader     36066\n",
       "reader          8002\n",
       "new_user        4888\n",
       "contributor     1044\n",
       "Name: user_type, dtype: int64"
      ]
     },
     "execution_count": 22,
     "metadata": {},
     "output_type": "execute_result"
    }
   ],
   "source": [
    "t4.user_type.value_counts()"
   ]
  },
  {
   "cell_type": "markdown",
   "metadata": {},
   "source": [
    "5. I just want to confirm, there isn't anything weird or off between the user groups, to ensure merit of our experiment design. Let's look at signup dates for each cohort."
   ]
  },
  {
   "cell_type": "code",
   "execution_count": 23,
   "metadata": {
    "ExecuteTime": {
     "end_time": "2021-10-01T05:27:10.323688Z",
     "start_time": "2021-10-01T05:27:10.275785Z"
    }
   },
   "outputs": [
    {
     "data": {
      "text/plain": [
       "2019-01-08    231\n",
       "2019-02-04    216\n",
       "2019-01-29    195\n",
       "2019-02-03    185\n",
       "2019-01-31    185\n",
       "             ... \n",
       "2011-05-27      1\n",
       "2013-03-31      1\n",
       "2011-06-07      1\n",
       "2011-02-27      1\n",
       "2012-08-17      1\n",
       "Name: signup_date, Length: 2611, dtype: int64"
      ]
     },
     "execution_count": 23,
     "metadata": {},
     "output_type": "execute_result"
    }
   ],
   "source": [
    "t2[(t2.variant_number == 0)].signup_date.value_counts()\n",
    "\n",
    "#code reference: filtering data in Pandas: https://www.listendata.com/2019/07/how-to-filter-pandas-dataframe.html"
   ]
  },
  {
   "cell_type": "code",
   "execution_count": 24,
   "metadata": {
    "ExecuteTime": {
     "end_time": "2021-10-01T05:27:10.380540Z",
     "start_time": "2021-10-01T05:27:10.342832Z"
    }
   },
   "outputs": [
    {
     "data": {
      "text/plain": [
       "2019-01-30    68\n",
       "2019-02-04    67\n",
       "2019-01-28    67\n",
       "2019-01-22    61\n",
       "2019-02-02    61\n",
       "              ..\n",
       "2014-10-25     1\n",
       "2014-12-07     1\n",
       "2011-01-24     1\n",
       "2015-04-18     1\n",
       "2014-05-26     1\n",
       "Name: signup_date, Length: 2030, dtype: int64"
      ]
     },
     "execution_count": 24,
     "metadata": {},
     "output_type": "execute_result"
    }
   ],
   "source": [
    "t2[(t2.variant_number == 1)].signup_date.value_counts()"
   ]
  },
  {
   "cell_type": "markdown",
   "metadata": {},
   "source": [
    "I notice the range starts in 2011 for the pre-launch sample, whereas the range for the post launch sample doesn't start till 2013. There may be some disparities here, therefore, in the \"newness\" or novelty of the user that may impact some behavior. We should consider designing the experiments to roughly split up cohorts among similar user types, to compare apples to apples."
   ]
  },
  {
   "cell_type": "markdown",
   "metadata": {},
   "source": [
    "6. Finally, I want to understand, how many unique users we have in each group (rather than observations)."
   ]
  },
  {
   "cell_type": "code",
   "execution_count": 96,
   "metadata": {
    "ExecuteTime": {
     "end_time": "2021-10-01T07:09:14.452844Z",
     "start_time": "2021-10-01T07:09:02.444359Z"
    },
    "scrolled": true
   },
   "outputs": [
    {
     "name": "stdout",
     "output_type": "stream",
     "text": [
      "      uid  days_active\n",
      "0    9150          110\n",
      "1   24028          109\n",
      "2    7508          108\n",
      "3   49503          107\n",
      "4   48906          107\n",
      "5   28355          107\n",
      "6   16006          107\n",
      "7    5847          107\n",
      "8    3815          107\n",
      "9    3313          107\n",
      "10  39663          106\n",
      "11  35654          106\n",
      "12  35462          106\n",
      "13  30000          106\n",
      "14  29034          106\n",
      "15  21521          106\n",
      "16  14189          106\n",
      "17   5691          106\n",
      "18   2855          106\n",
      "19  25249          105\n"
     ]
    }
   ],
   "source": [
    "#strategy:\n",
    "# get unique count of users for each cohort\n",
    "\n",
    "#import SQL library for Python\n",
    "from pandasql import sqldf\n",
    "\n",
    "pysqldf = lambda q: sqldf(q, globals())\n",
    "\n",
    "def pysqldf(q):\n",
    "    #add this to your script if you get tired of calling locals()\n",
    "    return sqldf(q, globals())\n",
    "\n",
    "\n",
    "\n",
    "\n",
    "q = \"\"\"\n",
    "    SELECT uid, COUNT(uid) AS days_active FROM t1\n",
    "    GROUP BY uid           \n",
    "    ORDER BY days_active DESC\n",
    "         \n",
    "              \n",
    "\"\"\"\n",
    "\n",
    "print(pysqldf(q).head(20))"
   ]
  },
  {
   "cell_type": "code",
   "execution_count": 97,
   "metadata": {
    "ExecuteTime": {
     "end_time": "2021-10-01T07:09:24.901945Z",
     "start_time": "2021-10-01T07:09:15.189340Z"
    }
   },
   "outputs": [
    {
     "name": "stdout",
     "output_type": "stream",
     "text": [
      "    days_active\n",
      "0           133\n",
      "1           129\n",
      "2           127\n",
      "3           127\n",
      "4           126\n",
      "5           126\n",
      "6           126\n",
      "7           126\n",
      "8           126\n",
      "9           126\n",
      "10          126\n",
      "11          126\n",
      "12          125\n",
      "13          125\n",
      "14          125\n",
      "15          125\n",
      "16          125\n",
      "17          125\n",
      "18          125\n",
      "19          125\n"
     ]
    }
   ],
   "source": [
    "#repeat same for the pre-launch group\n",
    "\n",
    "#strategy:\n",
    "# get unique count of users for each cohort\n",
    "\n",
    "\n",
    "q = \"\"\"\n",
    "    SELECT COUNT(uid) AS days_active FROM t3\n",
    "    GROUP BY uid           \n",
    "    ORDER BY days_active DESC\n",
    "         \n",
    "              \n",
    "\"\"\"\n",
    "\n",
    "print(pysqldf(q).head(20))"
   ]
  },
  {
   "cell_type": "markdown",
   "metadata": {},
   "source": [
    "Given that the date ranges were pretty varied, there's nothing too weird about the same users appearing many times. In fact, we want our users to be daily actives, so this seems pretty normal across both our groups.\n",
    "\n",
    "The only slight nuance might be that our most active user in the pre-launch group seemed more active than anyone in the post-launch group overall -- which might be counterintuitive, since we did see greater activity in the post-launch group. But given the earlier observed disparity in signup dates, with the pre-launch group showing longer active users, this isn't actually shocking.\n",
    "\n",
    "Still, we might want to revisit overall retention, i.e. number of active days AFTER the experiment date!"
   ]
  },
  {
   "cell_type": "markdown",
   "metadata": {},
   "source": [
    "6b. Check for retention -- consider only after experiment launch date"
   ]
  },
  {
   "cell_type": "code",
   "execution_count": 27,
   "metadata": {
    "ExecuteTime": {
     "end_time": "2021-10-01T05:27:42.129349Z",
     "start_time": "2021-10-01T05:27:32.189335Z"
    }
   },
   "outputs": [
    {
     "name": "stdout",
     "output_type": "stream",
     "text": [
      "    user_count\n",
      "0          110\n",
      "1          109\n",
      "2          108\n",
      "3          107\n",
      "4          107\n",
      "5          107\n",
      "6          107\n",
      "7          107\n",
      "8          107\n",
      "9          107\n",
      "10         106\n",
      "11         106\n",
      "12         106\n",
      "13         106\n",
      "14         106\n",
      "15         106\n",
      "16         106\n",
      "17         106\n",
      "18         106\n",
      "19         105\n"
     ]
    }
   ],
   "source": [
    "#Same query, but with the date filter for activity after experiment dates:\n",
    "\n",
    "\n",
    "\n",
    "q = \"\"\"\n",
    "    SELECT COUNT(uid) AS user_count FROM t1\n",
    "    WHERE dt >= '2019-02-06' \n",
    "    GROUP BY uid           \n",
    "    ORDER BY user_count DESC\n",
    "         \n",
    "              \n",
    "\"\"\"\n",
    "\n",
    "print(pysqldf(q).head(20))"
   ]
  },
  {
   "cell_type": "markdown",
   "metadata": {},
   "source": [
    "## Questions from the form\n",
    "\n",
    "### Unit of analysis"
   ]
  },
  {
   "cell_type": "markdown",
   "metadata": {},
   "source": [
    "In order to measure the experiment effect on user engagement, let's say you want to perform a t-test of the difference in minutes spent on site, what would be your unit of analysis (i.e. when conducting a t-test, we calculate means and variances of two samples. What does each data point represent in the samples?)? \n",
    "\n",
    "\n",
    "OPTION 1: Total minutes per user in each group (number of data points in each group = number of users in that group)\n",
    "\n",
    "*OPTION 2*: Total minutes per user per day in each group (number of data points in each group = number of users in that group x number of days of the experiment)\n",
    "\n",
    "OPTION 3: Total minutes per group per day (number of data points in each group = number of days of the experiment)"
   ]
  },
  {
   "cell_type": "markdown",
   "metadata": {},
   "source": [
    "Why do you think the other choices are not correct? Hint: think of the key assumptions of running a t-test."
   ]
  },
  {
   "cell_type": "markdown",
   "metadata": {},
   "source": [
    "From the data dictionary, we know that each observation represents engagement in active minutes spent per user, per day. We have also calculated the mean time spent per group, which is the total number of minutes across all observations (presumably, days) for each cohort. Therefore, this should be what we are comparing against."
   ]
  },
  {
   "cell_type": "markdown",
   "metadata": {},
   "source": [
    "### Conduct a t-test\n",
    "\n",
    "Use only tables 1 (t1_user_active_min.csv) and 2 (t2_user_variant.csv) for this question. \n",
    "\n",
    "We suspect that there might be inaccuracies in the minutes spent on site data in some rows. Think about the definition of the metric and check if there are any outliers in the data. In this context, outliers mean numbers that are obviously different due to logging errors. If so, remove them; if not, use all the data. \n",
    "\n",
    "Using t-test under your assumption about variance, find an appropriate 95% confidence interval of the overall average treatment effect (using the unit of analysis you identified in the previous section).\n",
    "\n",
    "Enter the confidence interval below. Please round your answer to second place after the decimal."
   ]
  },
  {
   "cell_type": "markdown",
   "metadata": {},
   "source": [
    "#### Cleaning for t-test\n",
    "\n",
    "Yes, we in fact, found such rows in the EDA earlier!\n",
    "\n",
    "Let's filter them out and create a new, clean t1:"
   ]
  },
  {
   "cell_type": "code",
   "execution_count": 28,
   "metadata": {
    "ExecuteTime": {
     "end_time": "2021-10-01T05:27:42.381068Z",
     "start_time": "2021-10-01T05:27:42.160959Z"
    }
   },
   "outputs": [],
   "source": [
    "t1_clean = t1[t1['active_mins']!=99999]"
   ]
  },
  {
   "cell_type": "code",
   "execution_count": 29,
   "metadata": {
    "ExecuteTime": {
     "end_time": "2021-10-01T05:27:42.457539Z",
     "start_time": "2021-10-01T05:27:42.408797Z"
    }
   },
   "outputs": [
    {
     "data": {
      "text/html": [
       "<div>\n",
       "<style scoped>\n",
       "    .dataframe tbody tr th:only-of-type {\n",
       "        vertical-align: middle;\n",
       "    }\n",
       "\n",
       "    .dataframe tbody tr th {\n",
       "        vertical-align: top;\n",
       "    }\n",
       "\n",
       "    .dataframe thead th {\n",
       "        text-align: right;\n",
       "    }\n",
       "</style>\n",
       "<table border=\"1\" class=\"dataframe\">\n",
       "  <thead>\n",
       "    <tr style=\"text-align: right;\">\n",
       "      <th></th>\n",
       "      <th>uid</th>\n",
       "      <th>dt</th>\n",
       "      <th>active_mins</th>\n",
       "    </tr>\n",
       "  </thead>\n",
       "  <tbody>\n",
       "    <tr>\n",
       "      <th>0</th>\n",
       "      <td>0</td>\n",
       "      <td>2019-02-22</td>\n",
       "      <td>5.0</td>\n",
       "    </tr>\n",
       "    <tr>\n",
       "      <th>1</th>\n",
       "      <td>0</td>\n",
       "      <td>2019-03-11</td>\n",
       "      <td>5.0</td>\n",
       "    </tr>\n",
       "    <tr>\n",
       "      <th>2</th>\n",
       "      <td>0</td>\n",
       "      <td>2019-03-18</td>\n",
       "      <td>3.0</td>\n",
       "    </tr>\n",
       "    <tr>\n",
       "      <th>3</th>\n",
       "      <td>0</td>\n",
       "      <td>2019-03-22</td>\n",
       "      <td>4.0</td>\n",
       "    </tr>\n",
       "    <tr>\n",
       "      <th>4</th>\n",
       "      <td>0</td>\n",
       "      <td>2019-04-03</td>\n",
       "      <td>9.0</td>\n",
       "    </tr>\n",
       "  </tbody>\n",
       "</table>\n",
       "</div>"
      ],
      "text/plain": [
       "   uid          dt  active_mins\n",
       "0    0  2019-02-22          5.0\n",
       "1    0  2019-03-11          5.0\n",
       "2    0  2019-03-18          3.0\n",
       "3    0  2019-03-22          4.0\n",
       "4    0  2019-04-03          9.0"
      ]
     },
     "execution_count": 29,
     "metadata": {},
     "output_type": "execute_result"
    }
   ],
   "source": [
    "t1_clean.head()"
   ]
  },
  {
   "cell_type": "code",
   "execution_count": 30,
   "metadata": {
    "ExecuteTime": {
     "end_time": "2021-10-01T05:27:42.931306Z",
     "start_time": "2021-10-01T05:27:42.461587Z"
    },
    "scrolled": true
   },
   "outputs": [
    {
     "data": {
      "text/html": [
       "<div>\n",
       "<style scoped>\n",
       "    .dataframe tbody tr th:only-of-type {\n",
       "        vertical-align: middle;\n",
       "    }\n",
       "\n",
       "    .dataframe tbody tr th {\n",
       "        vertical-align: top;\n",
       "    }\n",
       "\n",
       "    .dataframe thead th {\n",
       "        text-align: right;\n",
       "    }\n",
       "</style>\n",
       "<table border=\"1\" class=\"dataframe\">\n",
       "  <thead>\n",
       "    <tr style=\"text-align: right;\">\n",
       "      <th></th>\n",
       "      <th>dt</th>\n",
       "      <th>active_mins</th>\n",
       "    </tr>\n",
       "  </thead>\n",
       "  <tbody>\n",
       "    <tr>\n",
       "      <th>53105</th>\n",
       "      <td>2019-02-24</td>\n",
       "      <td>897.0</td>\n",
       "    </tr>\n",
       "    <tr>\n",
       "      <th>495393</th>\n",
       "      <td>2019-04-03</td>\n",
       "      <td>896.0</td>\n",
       "    </tr>\n",
       "    <tr>\n",
       "      <th>925607</th>\n",
       "      <td>2019-04-14</td>\n",
       "      <td>895.0</td>\n",
       "    </tr>\n",
       "    <tr>\n",
       "      <th>424321</th>\n",
       "      <td>2019-04-23</td>\n",
       "      <td>894.0</td>\n",
       "    </tr>\n",
       "    <tr>\n",
       "      <th>53131</th>\n",
       "      <td>2019-04-06</td>\n",
       "      <td>894.0</td>\n",
       "    </tr>\n",
       "  </tbody>\n",
       "</table>\n",
       "</div>"
      ],
      "text/plain": [
       "                dt  active_mins\n",
       "53105   2019-02-24        897.0\n",
       "495393  2019-04-03        896.0\n",
       "925607  2019-04-14        895.0\n",
       "424321  2019-04-23        894.0\n",
       "53131   2019-04-06        894.0"
      ]
     },
     "execution_count": 30,
     "metadata": {},
     "output_type": "execute_result"
    }
   ],
   "source": [
    "#verify minute ranges now make sense:\n",
    "t1_clean[['dt','active_mins']].sort_values(\n",
    "    by='active_mins',ascending=False).head()"
   ]
  },
  {
   "cell_type": "markdown",
   "metadata": {},
   "source": [
    "Let's also fix the pre-launch sample data, of the same issues:"
   ]
  },
  {
   "cell_type": "code",
   "execution_count": 31,
   "metadata": {
    "ExecuteTime": {
     "end_time": "2021-10-01T05:27:43.059858Z",
     "start_time": "2021-10-01T05:27:42.960867Z"
    }
   },
   "outputs": [],
   "source": [
    "t3_clean = t3[t3['active_mins']!=99999]"
   ]
  },
  {
   "cell_type": "code",
   "execution_count": 32,
   "metadata": {
    "ExecuteTime": {
     "end_time": "2021-10-01T05:27:43.600539Z",
     "start_time": "2021-10-01T05:27:43.067160Z"
    }
   },
   "outputs": [
    {
     "data": {
      "text/html": [
       "<div>\n",
       "<style scoped>\n",
       "    .dataframe tbody tr th:only-of-type {\n",
       "        vertical-align: middle;\n",
       "    }\n",
       "\n",
       "    .dataframe tbody tr th {\n",
       "        vertical-align: top;\n",
       "    }\n",
       "\n",
       "    .dataframe thead th {\n",
       "        text-align: right;\n",
       "    }\n",
       "</style>\n",
       "<table border=\"1\" class=\"dataframe\">\n",
       "  <thead>\n",
       "    <tr style=\"text-align: right;\">\n",
       "      <th></th>\n",
       "      <th>dt</th>\n",
       "      <th>active_mins</th>\n",
       "    </tr>\n",
       "  </thead>\n",
       "  <tbody>\n",
       "    <tr>\n",
       "      <th>386278</th>\n",
       "      <td>2018-09-25</td>\n",
       "      <td>897.0</td>\n",
       "    </tr>\n",
       "    <tr>\n",
       "      <th>553056</th>\n",
       "      <td>2019-01-06</td>\n",
       "      <td>896.0</td>\n",
       "    </tr>\n",
       "    <tr>\n",
       "      <th>983780</th>\n",
       "      <td>2018-09-21</td>\n",
       "      <td>895.0</td>\n",
       "    </tr>\n",
       "    <tr>\n",
       "      <th>474790</th>\n",
       "      <td>2019-01-27</td>\n",
       "      <td>894.0</td>\n",
       "    </tr>\n",
       "    <tr>\n",
       "      <th>947093</th>\n",
       "      <td>2018-10-01</td>\n",
       "      <td>893.0</td>\n",
       "    </tr>\n",
       "  </tbody>\n",
       "</table>\n",
       "</div>"
      ],
      "text/plain": [
       "                dt  active_mins\n",
       "386278  2018-09-25        897.0\n",
       "553056  2019-01-06        896.0\n",
       "983780  2018-09-21        895.0\n",
       "474790  2019-01-27        894.0\n",
       "947093  2018-10-01        893.0"
      ]
     },
     "execution_count": 32,
     "metadata": {},
     "output_type": "execute_result"
    }
   ],
   "source": [
    "#verify minute ranges now make sense:\n",
    "t3_clean[['dt','active_mins']].sort_values(\n",
    "    by='active_mins',ascending=False).head()"
   ]
  },
  {
   "cell_type": "markdown",
   "metadata": {},
   "source": [
    "#### T-test on new data only"
   ]
  },
  {
   "cell_type": "code",
   "execution_count": 33,
   "metadata": {
    "ExecuteTime": {
     "end_time": "2021-10-01T05:27:58.681828Z",
     "start_time": "2021-10-01T05:27:43.610428Z"
    }
   },
   "outputs": [],
   "source": [
    "#WE SHOULD MERGE T1 + T2 TO DECIPHER, WHAT GROUP EACH USER \n",
    "#BELONGS TO\n",
    "\n",
    "\n",
    "\n",
    "q = \"\"\" \n",
    "    SELECT t1.uid, t1.dt, t1.active_mins,\n",
    "           t2.variant_number, t2.signup_date\n",
    "    \n",
    "    FROM t1\n",
    "    LEFT JOIN t2\n",
    "    ON t1.uid = t2.uid\n",
    " \n",
    "              \n",
    "\"\"\"\n",
    "\n",
    "groups_assigned = pd.DataFrame(pysqldf(q))"
   ]
  },
  {
   "cell_type": "code",
   "execution_count": 34,
   "metadata": {
    "ExecuteTime": {
     "end_time": "2021-10-01T05:27:58.719115Z",
     "start_time": "2021-10-01T05:27:58.684461Z"
    },
    "scrolled": true
   },
   "outputs": [
    {
     "data": {
      "text/html": [
       "<div>\n",
       "<style scoped>\n",
       "    .dataframe tbody tr th:only-of-type {\n",
       "        vertical-align: middle;\n",
       "    }\n",
       "\n",
       "    .dataframe tbody tr th {\n",
       "        vertical-align: top;\n",
       "    }\n",
       "\n",
       "    .dataframe thead th {\n",
       "        text-align: right;\n",
       "    }\n",
       "</style>\n",
       "<table border=\"1\" class=\"dataframe\">\n",
       "  <thead>\n",
       "    <tr style=\"text-align: right;\">\n",
       "      <th></th>\n",
       "      <th>uid</th>\n",
       "      <th>dt</th>\n",
       "      <th>active_mins</th>\n",
       "      <th>variant_number</th>\n",
       "      <th>signup_date</th>\n",
       "    </tr>\n",
       "  </thead>\n",
       "  <tbody>\n",
       "    <tr>\n",
       "      <th>0</th>\n",
       "      <td>0</td>\n",
       "      <td>2019-02-22</td>\n",
       "      <td>5.0</td>\n",
       "      <td>0</td>\n",
       "      <td>2018-09-24</td>\n",
       "    </tr>\n",
       "    <tr>\n",
       "      <th>1</th>\n",
       "      <td>0</td>\n",
       "      <td>2019-03-11</td>\n",
       "      <td>5.0</td>\n",
       "      <td>0</td>\n",
       "      <td>2018-09-24</td>\n",
       "    </tr>\n",
       "    <tr>\n",
       "      <th>2</th>\n",
       "      <td>0</td>\n",
       "      <td>2019-03-18</td>\n",
       "      <td>3.0</td>\n",
       "      <td>0</td>\n",
       "      <td>2018-09-24</td>\n",
       "    </tr>\n",
       "    <tr>\n",
       "      <th>3</th>\n",
       "      <td>0</td>\n",
       "      <td>2019-03-22</td>\n",
       "      <td>4.0</td>\n",
       "      <td>0</td>\n",
       "      <td>2018-09-24</td>\n",
       "    </tr>\n",
       "    <tr>\n",
       "      <th>4</th>\n",
       "      <td>0</td>\n",
       "      <td>2019-04-03</td>\n",
       "      <td>9.0</td>\n",
       "      <td>0</td>\n",
       "      <td>2018-09-24</td>\n",
       "    </tr>\n",
       "    <tr>\n",
       "      <th>...</th>\n",
       "      <td>...</td>\n",
       "      <td>...</td>\n",
       "      <td>...</td>\n",
       "      <td>...</td>\n",
       "      <td>...</td>\n",
       "    </tr>\n",
       "    <tr>\n",
       "      <th>1066397</th>\n",
       "      <td>49999</td>\n",
       "      <td>2019-04-14</td>\n",
       "      <td>24.0</td>\n",
       "      <td>1</td>\n",
       "      <td>2015-12-29</td>\n",
       "    </tr>\n",
       "    <tr>\n",
       "      <th>1066398</th>\n",
       "      <td>49999</td>\n",
       "      <td>2019-04-26</td>\n",
       "      <td>1.0</td>\n",
       "      <td>1</td>\n",
       "      <td>2015-12-29</td>\n",
       "    </tr>\n",
       "    <tr>\n",
       "      <th>1066399</th>\n",
       "      <td>49999</td>\n",
       "      <td>2019-05-31</td>\n",
       "      <td>6.0</td>\n",
       "      <td>1</td>\n",
       "      <td>2015-12-29</td>\n",
       "    </tr>\n",
       "    <tr>\n",
       "      <th>1066400</th>\n",
       "      <td>49999</td>\n",
       "      <td>2019-06-02</td>\n",
       "      <td>2.0</td>\n",
       "      <td>1</td>\n",
       "      <td>2015-12-29</td>\n",
       "    </tr>\n",
       "    <tr>\n",
       "      <th>1066401</th>\n",
       "      <td>49999</td>\n",
       "      <td>2019-06-24</td>\n",
       "      <td>5.0</td>\n",
       "      <td>1</td>\n",
       "      <td>2015-12-29</td>\n",
       "    </tr>\n",
       "  </tbody>\n",
       "</table>\n",
       "<p>1066402 rows × 5 columns</p>\n",
       "</div>"
      ],
      "text/plain": [
       "           uid          dt  active_mins  variant_number signup_date\n",
       "0            0  2019-02-22          5.0               0  2018-09-24\n",
       "1            0  2019-03-11          5.0               0  2018-09-24\n",
       "2            0  2019-03-18          3.0               0  2018-09-24\n",
       "3            0  2019-03-22          4.0               0  2018-09-24\n",
       "4            0  2019-04-03          9.0               0  2018-09-24\n",
       "...        ...         ...          ...             ...         ...\n",
       "1066397  49999  2019-04-14         24.0               1  2015-12-29\n",
       "1066398  49999  2019-04-26          1.0               1  2015-12-29\n",
       "1066399  49999  2019-05-31          6.0               1  2015-12-29\n",
       "1066400  49999  2019-06-02          2.0               1  2015-12-29\n",
       "1066401  49999  2019-06-24          5.0               1  2015-12-29\n",
       "\n",
       "[1066402 rows x 5 columns]"
      ]
     },
     "execution_count": 34,
     "metadata": {},
     "output_type": "execute_result"
    }
   ],
   "source": [
    "groups_assigned"
   ]
  },
  {
   "cell_type": "code",
   "execution_count": 35,
   "metadata": {
    "ExecuteTime": {
     "end_time": "2021-10-01T05:27:59.216954Z",
     "start_time": "2021-10-01T05:27:58.771468Z"
    }
   },
   "outputs": [
    {
     "data": {
      "text/html": [
       "<div>\n",
       "<style scoped>\n",
       "    .dataframe tbody tr th:only-of-type {\n",
       "        vertical-align: middle;\n",
       "    }\n",
       "\n",
       "    .dataframe tbody tr th {\n",
       "        vertical-align: top;\n",
       "    }\n",
       "\n",
       "    .dataframe thead th {\n",
       "        text-align: right;\n",
       "    }\n",
       "</style>\n",
       "<table border=\"1\" class=\"dataframe\">\n",
       "  <thead>\n",
       "    <tr style=\"text-align: right;\">\n",
       "      <th></th>\n",
       "      <th>dt</th>\n",
       "      <th>active_mins</th>\n",
       "    </tr>\n",
       "  </thead>\n",
       "  <tbody>\n",
       "    <tr>\n",
       "      <th>699598</th>\n",
       "      <td>2019-05-19</td>\n",
       "      <td>99999.0</td>\n",
       "    </tr>\n",
       "    <tr>\n",
       "      <th>424289</th>\n",
       "      <td>2019-03-10</td>\n",
       "      <td>99999.0</td>\n",
       "    </tr>\n",
       "    <tr>\n",
       "      <th>69742</th>\n",
       "      <td>2019-05-10</td>\n",
       "      <td>99999.0</td>\n",
       "    </tr>\n",
       "    <tr>\n",
       "      <th>69745</th>\n",
       "      <td>2019-05-16</td>\n",
       "      <td>99999.0</td>\n",
       "    </tr>\n",
       "    <tr>\n",
       "      <th>1057133</th>\n",
       "      <td>2019-03-10</td>\n",
       "      <td>99999.0</td>\n",
       "    </tr>\n",
       "  </tbody>\n",
       "</table>\n",
       "</div>"
      ],
      "text/plain": [
       "                 dt  active_mins\n",
       "699598   2019-05-19      99999.0\n",
       "424289   2019-03-10      99999.0\n",
       "69742    2019-05-10      99999.0\n",
       "69745    2019-05-16      99999.0\n",
       "1057133  2019-03-10      99999.0"
      ]
     },
     "execution_count": 35,
     "metadata": {},
     "output_type": "execute_result"
    }
   ],
   "source": [
    "#clean up any bad data\n",
    "groups_assigned[['dt','active_mins']].sort_values(\n",
    "    by='active_mins',ascending=False).head()"
   ]
  },
  {
   "cell_type": "code",
   "execution_count": 36,
   "metadata": {
    "ExecuteTime": {
     "end_time": "2021-10-01T05:27:59.392082Z",
     "start_time": "2021-10-01T05:27:59.224277Z"
    }
   },
   "outputs": [],
   "source": [
    "post_launch_clean = groups_assigned[groups_assigned['active_mins']!=99999]"
   ]
  },
  {
   "cell_type": "code",
   "execution_count": 37,
   "metadata": {
    "ExecuteTime": {
     "end_time": "2021-10-01T05:27:59.865312Z",
     "start_time": "2021-10-01T05:27:59.397063Z"
    }
   },
   "outputs": [
    {
     "data": {
      "text/html": [
       "<div>\n",
       "<style scoped>\n",
       "    .dataframe tbody tr th:only-of-type {\n",
       "        vertical-align: middle;\n",
       "    }\n",
       "\n",
       "    .dataframe tbody tr th {\n",
       "        vertical-align: top;\n",
       "    }\n",
       "\n",
       "    .dataframe thead th {\n",
       "        text-align: right;\n",
       "    }\n",
       "</style>\n",
       "<table border=\"1\" class=\"dataframe\">\n",
       "  <thead>\n",
       "    <tr style=\"text-align: right;\">\n",
       "      <th></th>\n",
       "      <th>dt</th>\n",
       "      <th>active_mins</th>\n",
       "    </tr>\n",
       "  </thead>\n",
       "  <tbody>\n",
       "    <tr>\n",
       "      <th>53105</th>\n",
       "      <td>2019-02-24</td>\n",
       "      <td>897.0</td>\n",
       "    </tr>\n",
       "    <tr>\n",
       "      <th>495393</th>\n",
       "      <td>2019-04-03</td>\n",
       "      <td>896.0</td>\n",
       "    </tr>\n",
       "    <tr>\n",
       "      <th>925607</th>\n",
       "      <td>2019-04-14</td>\n",
       "      <td>895.0</td>\n",
       "    </tr>\n",
       "    <tr>\n",
       "      <th>424321</th>\n",
       "      <td>2019-04-23</td>\n",
       "      <td>894.0</td>\n",
       "    </tr>\n",
       "    <tr>\n",
       "      <th>53131</th>\n",
       "      <td>2019-04-06</td>\n",
       "      <td>894.0</td>\n",
       "    </tr>\n",
       "  </tbody>\n",
       "</table>\n",
       "</div>"
      ],
      "text/plain": [
       "                dt  active_mins\n",
       "53105   2019-02-24        897.0\n",
       "495393  2019-04-03        896.0\n",
       "925607  2019-04-14        895.0\n",
       "424321  2019-04-23        894.0\n",
       "53131   2019-04-06        894.0"
      ]
     },
     "execution_count": 37,
     "metadata": {},
     "output_type": "execute_result"
    }
   ],
   "source": [
    "post_launch_clean[['dt','active_mins']].sort_values(\n",
    "    by='active_mins',ascending=False).head()"
   ]
  },
  {
   "cell_type": "code",
   "execution_count": 38,
   "metadata": {
    "ExecuteTime": {
     "end_time": "2021-10-01T05:28:00.181279Z",
     "start_time": "2021-10-01T05:27:59.899330Z"
    }
   },
   "outputs": [
    {
     "data": {
      "text/plain": [
       "(     Variable          N       Mean         SD        SE  95% Conf.   Interval\n",
       " 0     control   886815.0  19.337660  44.797631  0.047571  19.244423  19.430897\n",
       " 1  experiment   179415.0  23.526294  54.191356  0.127938  23.275538  23.777050\n",
       " 2    combined  1066230.0  20.042483  46.537632  0.045069  19.954149  20.130817,\n",
       "                      Independent t-test       results\n",
       " 0  Difference (control - experiment) =  -4.188600e+00\n",
       " 1                 Degrees of freedom =   1.066228e+06\n",
       " 2                                  t =  -3.478840e+01\n",
       " 3              Two side test p value =   0.000000e+00\n",
       " 4             Difference < 0 p value =   0.000000e+00\n",
       " 5             Difference > 0 p value =   1.000000e+00\n",
       " 6                          Cohen's d =  -9.010000e-02\n",
       " 7                          Hedge's g =  -9.010000e-02\n",
       " 8                      Glass's delta =  -9.350000e-02\n",
       " 9                        Pearson's r =   3.370000e-02)"
      ]
     },
     "execution_count": 38,
     "metadata": {},
     "output_type": "execute_result"
    }
   ],
   "source": [
    "rp.ttest(group1= post_launch_clean['active_mins'][post_launch_clean['variant_number'] == 0], group1_name= \"control\",\n",
    "         group2= post_launch_clean['active_mins'][post_launch_clean['variant_number'] == 1], group2_name= \"experiment\")"
   ]
  },
  {
   "cell_type": "markdown",
   "metadata": {},
   "source": [
    "Based on your findings, what is your recommended course of action regarding the new UI design? You can justify your choice in the next box.\n",
    "\n",
    "*Push to production*\n",
    "\n",
    "Do not push to production\n",
    "\n",
    "Conduct further research\n",
    "\n",
    "Other:\n",
    "\n",
    "Justify your answer."
   ]
  },
  {
   "cell_type": "markdown",
   "metadata": {},
   "source": [
    "Our p-value is small, and the difference in the mean minutes spent between the two groups is significant, with experiment outperforming on engagement. The degrees of freedom are ample, which is all what we want to see to decipherably contribute the difference in behavior to more than a chance. Therefore, ship this product change!"
   ]
  },
  {
   "cell_type": "markdown",
   "metadata": {},
   "source": [
    "### Add in new data from pre-launch"
   ]
  },
  {
   "cell_type": "markdown",
   "metadata": {},
   "source": [
    "#### Add features for easy filtering + merge dataframes to manipulate easily"
   ]
  },
  {
   "cell_type": "code",
   "execution_count": 39,
   "metadata": {
    "ExecuteTime": {
     "end_time": "2021-10-01T05:28:00.213721Z",
     "start_time": "2021-10-01T05:28:00.187347Z"
    }
   },
   "outputs": [
    {
     "name": "stderr",
     "output_type": "stream",
     "text": [
      "<ipython-input-39-be2c03936774>:2: SettingWithCopyWarning: \n",
      "A value is trying to be set on a copy of a slice from a DataFrame.\n",
      "Try using .loc[row_indexer,col_indexer] = value instead\n",
      "\n",
      "See the caveats in the documentation: https://pandas.pydata.org/pandas-docs/stable/user_guide/indexing.html#returning-a-view-versus-a-copy\n",
      "  t1_clean['timing'] = 'post-launch' #REPLACE THIS SIMPLY WITH \"POST-LAUNCH\"\n"
     ]
    }
   ],
   "source": [
    "#add column indicating whether group is exp.\n",
    "t1_clean['timing'] = 'post-launch' #REPLACE THIS SIMPLY WITH \"POST-LAUNCH\""
   ]
  },
  {
   "cell_type": "code",
   "execution_count": 40,
   "metadata": {
    "ExecuteTime": {
     "end_time": "2021-10-01T05:28:00.253614Z",
     "start_time": "2021-10-01T05:28:00.229972Z"
    },
    "scrolled": true
   },
   "outputs": [
    {
     "data": {
      "text/html": [
       "<div>\n",
       "<style scoped>\n",
       "    .dataframe tbody tr th:only-of-type {\n",
       "        vertical-align: middle;\n",
       "    }\n",
       "\n",
       "    .dataframe tbody tr th {\n",
       "        vertical-align: top;\n",
       "    }\n",
       "\n",
       "    .dataframe thead th {\n",
       "        text-align: right;\n",
       "    }\n",
       "</style>\n",
       "<table border=\"1\" class=\"dataframe\">\n",
       "  <thead>\n",
       "    <tr style=\"text-align: right;\">\n",
       "      <th></th>\n",
       "      <th>uid</th>\n",
       "      <th>dt</th>\n",
       "      <th>active_mins</th>\n",
       "      <th>timing</th>\n",
       "    </tr>\n",
       "  </thead>\n",
       "  <tbody>\n",
       "    <tr>\n",
       "      <th>0</th>\n",
       "      <td>0</td>\n",
       "      <td>2019-02-22</td>\n",
       "      <td>5.0</td>\n",
       "      <td>post-launch</td>\n",
       "    </tr>\n",
       "    <tr>\n",
       "      <th>1</th>\n",
       "      <td>0</td>\n",
       "      <td>2019-03-11</td>\n",
       "      <td>5.0</td>\n",
       "      <td>post-launch</td>\n",
       "    </tr>\n",
       "    <tr>\n",
       "      <th>2</th>\n",
       "      <td>0</td>\n",
       "      <td>2019-03-18</td>\n",
       "      <td>3.0</td>\n",
       "      <td>post-launch</td>\n",
       "    </tr>\n",
       "    <tr>\n",
       "      <th>3</th>\n",
       "      <td>0</td>\n",
       "      <td>2019-03-22</td>\n",
       "      <td>4.0</td>\n",
       "      <td>post-launch</td>\n",
       "    </tr>\n",
       "    <tr>\n",
       "      <th>4</th>\n",
       "      <td>0</td>\n",
       "      <td>2019-04-03</td>\n",
       "      <td>9.0</td>\n",
       "      <td>post-launch</td>\n",
       "    </tr>\n",
       "  </tbody>\n",
       "</table>\n",
       "</div>"
      ],
      "text/plain": [
       "   uid          dt  active_mins       timing\n",
       "0    0  2019-02-22          5.0  post-launch\n",
       "1    0  2019-03-11          5.0  post-launch\n",
       "2    0  2019-03-18          3.0  post-launch\n",
       "3    0  2019-03-22          4.0  post-launch\n",
       "4    0  2019-04-03          9.0  post-launch"
      ]
     },
     "execution_count": 40,
     "metadata": {},
     "output_type": "execute_result"
    }
   ],
   "source": [
    "t1_clean.head()"
   ]
  },
  {
   "cell_type": "code",
   "execution_count": 41,
   "metadata": {
    "ExecuteTime": {
     "end_time": "2021-10-01T05:28:00.324053Z",
     "start_time": "2021-10-01T05:28:00.262187Z"
    },
    "scrolled": true
   },
   "outputs": [
    {
     "name": "stderr",
     "output_type": "stream",
     "text": [
      "<ipython-input-41-8341fa2f354b>:1: SettingWithCopyWarning: \n",
      "A value is trying to be set on a copy of a slice from a DataFrame.\n",
      "Try using .loc[row_indexer,col_indexer] = value instead\n",
      "\n",
      "See the caveats in the documentation: https://pandas.pydata.org/pandas-docs/stable/user_guide/indexing.html#returning-a-view-versus-a-copy\n",
      "  t3_clean['timing'] = 'pre-launch' #REPLACE THIS SIMPLY WITH \"PRE-LAUNCH\"\n"
     ]
    },
    {
     "data": {
      "text/html": [
       "<div>\n",
       "<style scoped>\n",
       "    .dataframe tbody tr th:only-of-type {\n",
       "        vertical-align: middle;\n",
       "    }\n",
       "\n",
       "    .dataframe tbody tr th {\n",
       "        vertical-align: top;\n",
       "    }\n",
       "\n",
       "    .dataframe thead th {\n",
       "        text-align: right;\n",
       "    }\n",
       "</style>\n",
       "<table border=\"1\" class=\"dataframe\">\n",
       "  <thead>\n",
       "    <tr style=\"text-align: right;\">\n",
       "      <th></th>\n",
       "      <th>uid</th>\n",
       "      <th>dt</th>\n",
       "      <th>active_mins</th>\n",
       "      <th>timing</th>\n",
       "    </tr>\n",
       "  </thead>\n",
       "  <tbody>\n",
       "    <tr>\n",
       "      <th>0</th>\n",
       "      <td>0</td>\n",
       "      <td>2018-09-24</td>\n",
       "      <td>3.0</td>\n",
       "      <td>pre-launch</td>\n",
       "    </tr>\n",
       "    <tr>\n",
       "      <th>1</th>\n",
       "      <td>0</td>\n",
       "      <td>2018-11-08</td>\n",
       "      <td>4.0</td>\n",
       "      <td>pre-launch</td>\n",
       "    </tr>\n",
       "    <tr>\n",
       "      <th>2</th>\n",
       "      <td>0</td>\n",
       "      <td>2018-11-24</td>\n",
       "      <td>3.0</td>\n",
       "      <td>pre-launch</td>\n",
       "    </tr>\n",
       "    <tr>\n",
       "      <th>3</th>\n",
       "      <td>0</td>\n",
       "      <td>2018-11-28</td>\n",
       "      <td>6.0</td>\n",
       "      <td>pre-launch</td>\n",
       "    </tr>\n",
       "    <tr>\n",
       "      <th>4</th>\n",
       "      <td>0</td>\n",
       "      <td>2018-12-02</td>\n",
       "      <td>6.0</td>\n",
       "      <td>pre-launch</td>\n",
       "    </tr>\n",
       "  </tbody>\n",
       "</table>\n",
       "</div>"
      ],
      "text/plain": [
       "   uid          dt  active_mins      timing\n",
       "0    0  2018-09-24          3.0  pre-launch\n",
       "1    0  2018-11-08          4.0  pre-launch\n",
       "2    0  2018-11-24          3.0  pre-launch\n",
       "3    0  2018-11-28          6.0  pre-launch\n",
       "4    0  2018-12-02          6.0  pre-launch"
      ]
     },
     "execution_count": 41,
     "metadata": {},
     "output_type": "execute_result"
    }
   ],
   "source": [
    "t3_clean['timing'] = 'pre-launch' #REPLACE THIS SIMPLY WITH \"PRE-LAUNCH\"\n",
    "t3_clean.head()"
   ]
  },
  {
   "cell_type": "code",
   "execution_count": 42,
   "metadata": {
    "ExecuteTime": {
     "end_time": "2021-10-01T05:28:00.818920Z",
     "start_time": "2021-10-01T05:28:00.344079Z"
    },
    "scrolled": true
   },
   "outputs": [
    {
     "name": "stdout",
     "output_type": "stream",
     "text": [
      "<class 'pandas.core.frame.DataFrame'>\n",
      "Int64Index: 2256157 entries, 0 to 1190092\n",
      "Data columns (total 4 columns):\n",
      " #   Column       Dtype  \n",
      "---  ------       -----  \n",
      " 0   uid          int64  \n",
      " 1   dt           object \n",
      " 2   active_mins  float64\n",
      " 3   timing       object \n",
      "dtypes: float64(1), int64(1), object(2)\n",
      "memory usage: 86.1+ MB\n"
     ]
    }
   ],
   "source": [
    "all_obs = pd.concat([t1_clean,t3_clean])\n",
    "all_obs.info()"
   ]
  },
  {
   "cell_type": "code",
   "execution_count": 43,
   "metadata": {
    "ExecuteTime": {
     "end_time": "2021-10-01T05:28:00.863603Z",
     "start_time": "2021-10-01T05:28:00.827683Z"
    }
   },
   "outputs": [
    {
     "data": {
      "text/html": [
       "<div>\n",
       "<style scoped>\n",
       "    .dataframe tbody tr th:only-of-type {\n",
       "        vertical-align: middle;\n",
       "    }\n",
       "\n",
       "    .dataframe tbody tr th {\n",
       "        vertical-align: top;\n",
       "    }\n",
       "\n",
       "    .dataframe thead th {\n",
       "        text-align: right;\n",
       "    }\n",
       "</style>\n",
       "<table border=\"1\" class=\"dataframe\">\n",
       "  <thead>\n",
       "    <tr style=\"text-align: right;\">\n",
       "      <th></th>\n",
       "      <th>uid</th>\n",
       "      <th>dt</th>\n",
       "      <th>active_mins</th>\n",
       "      <th>timing</th>\n",
       "    </tr>\n",
       "  </thead>\n",
       "  <tbody>\n",
       "    <tr>\n",
       "      <th>0</th>\n",
       "      <td>0</td>\n",
       "      <td>2019-02-22</td>\n",
       "      <td>5.0</td>\n",
       "      <td>post-launch</td>\n",
       "    </tr>\n",
       "    <tr>\n",
       "      <th>1</th>\n",
       "      <td>0</td>\n",
       "      <td>2019-03-11</td>\n",
       "      <td>5.0</td>\n",
       "      <td>post-launch</td>\n",
       "    </tr>\n",
       "    <tr>\n",
       "      <th>2</th>\n",
       "      <td>0</td>\n",
       "      <td>2019-03-18</td>\n",
       "      <td>3.0</td>\n",
       "      <td>post-launch</td>\n",
       "    </tr>\n",
       "    <tr>\n",
       "      <th>3</th>\n",
       "      <td>0</td>\n",
       "      <td>2019-03-22</td>\n",
       "      <td>4.0</td>\n",
       "      <td>post-launch</td>\n",
       "    </tr>\n",
       "    <tr>\n",
       "      <th>4</th>\n",
       "      <td>0</td>\n",
       "      <td>2019-04-03</td>\n",
       "      <td>9.0</td>\n",
       "      <td>post-launch</td>\n",
       "    </tr>\n",
       "    <tr>\n",
       "      <th>...</th>\n",
       "      <td>...</td>\n",
       "      <td>...</td>\n",
       "      <td>...</td>\n",
       "      <td>...</td>\n",
       "    </tr>\n",
       "    <tr>\n",
       "      <th>1190088</th>\n",
       "      <td>49999</td>\n",
       "      <td>2018-09-15</td>\n",
       "      <td>5.0</td>\n",
       "      <td>pre-launch</td>\n",
       "    </tr>\n",
       "    <tr>\n",
       "      <th>1190089</th>\n",
       "      <td>49999</td>\n",
       "      <td>2018-09-26</td>\n",
       "      <td>8.0</td>\n",
       "      <td>pre-launch</td>\n",
       "    </tr>\n",
       "    <tr>\n",
       "      <th>1190090</th>\n",
       "      <td>49999</td>\n",
       "      <td>2018-10-20</td>\n",
       "      <td>29.0</td>\n",
       "      <td>pre-launch</td>\n",
       "    </tr>\n",
       "    <tr>\n",
       "      <th>1190091</th>\n",
       "      <td>49999</td>\n",
       "      <td>2018-12-14</td>\n",
       "      <td>3.0</td>\n",
       "      <td>pre-launch</td>\n",
       "    </tr>\n",
       "    <tr>\n",
       "      <th>1190092</th>\n",
       "      <td>49999</td>\n",
       "      <td>2019-01-28</td>\n",
       "      <td>32.0</td>\n",
       "      <td>pre-launch</td>\n",
       "    </tr>\n",
       "  </tbody>\n",
       "</table>\n",
       "<p>2256157 rows × 4 columns</p>\n",
       "</div>"
      ],
      "text/plain": [
       "           uid          dt  active_mins       timing\n",
       "0            0  2019-02-22          5.0  post-launch\n",
       "1            0  2019-03-11          5.0  post-launch\n",
       "2            0  2019-03-18          3.0  post-launch\n",
       "3            0  2019-03-22          4.0  post-launch\n",
       "4            0  2019-04-03          9.0  post-launch\n",
       "...        ...         ...          ...          ...\n",
       "1190088  49999  2018-09-15          5.0   pre-launch\n",
       "1190089  49999  2018-09-26          8.0   pre-launch\n",
       "1190090  49999  2018-10-20         29.0   pre-launch\n",
       "1190091  49999  2018-12-14          3.0   pre-launch\n",
       "1190092  49999  2019-01-28         32.0   pre-launch\n",
       "\n",
       "[2256157 rows x 4 columns]"
      ]
     },
     "execution_count": 43,
     "metadata": {},
     "output_type": "execute_result"
    }
   ],
   "source": [
    "all_obs"
   ]
  },
  {
   "cell_type": "markdown",
   "metadata": {},
   "source": [
    "#### Now merge this again with t2 to split into groups"
   ]
  },
  {
   "cell_type": "code",
   "execution_count": 44,
   "metadata": {
    "ExecuteTime": {
     "end_time": "2021-10-01T05:28:50.928721Z",
     "start_time": "2021-10-01T05:28:00.877390Z"
    }
   },
   "outputs": [],
   "source": [
    "#WE SHOULD MERGE T1, T3 + T2 TO DECIPHER, WHAT GROUP EACH USER \n",
    "#BELONGS TO\n",
    "\n",
    "\n",
    "\n",
    "q = \"\"\" \n",
    "    SELECT all_obs.uid, all_obs.dt, all_obs.active_mins, all_obs.timing,\n",
    "           t2.variant_number, t2.signup_date\n",
    "    \n",
    "    FROM all_obs\n",
    "    LEFT JOIN t2\n",
    "    ON all_obs.uid = t2.uid\n",
    " \n",
    "              \n",
    "\"\"\"\n",
    "\n",
    "groups_assigned2 = pd.DataFrame(pysqldf(q))"
   ]
  },
  {
   "cell_type": "code",
   "execution_count": 45,
   "metadata": {
    "ExecuteTime": {
     "end_time": "2021-10-01T05:28:50.979946Z",
     "start_time": "2021-10-01T05:28:50.933719Z"
    }
   },
   "outputs": [
    {
     "data": {
      "text/html": [
       "<div>\n",
       "<style scoped>\n",
       "    .dataframe tbody tr th:only-of-type {\n",
       "        vertical-align: middle;\n",
       "    }\n",
       "\n",
       "    .dataframe tbody tr th {\n",
       "        vertical-align: top;\n",
       "    }\n",
       "\n",
       "    .dataframe thead th {\n",
       "        text-align: right;\n",
       "    }\n",
       "</style>\n",
       "<table border=\"1\" class=\"dataframe\">\n",
       "  <thead>\n",
       "    <tr style=\"text-align: right;\">\n",
       "      <th></th>\n",
       "      <th>uid</th>\n",
       "      <th>dt</th>\n",
       "      <th>active_mins</th>\n",
       "      <th>timing</th>\n",
       "      <th>variant_number</th>\n",
       "      <th>signup_date</th>\n",
       "    </tr>\n",
       "  </thead>\n",
       "  <tbody>\n",
       "    <tr>\n",
       "      <th>0</th>\n",
       "      <td>0</td>\n",
       "      <td>2019-02-22</td>\n",
       "      <td>5.0</td>\n",
       "      <td>post-launch</td>\n",
       "      <td>0</td>\n",
       "      <td>2018-09-24</td>\n",
       "    </tr>\n",
       "    <tr>\n",
       "      <th>1</th>\n",
       "      <td>0</td>\n",
       "      <td>2019-03-11</td>\n",
       "      <td>5.0</td>\n",
       "      <td>post-launch</td>\n",
       "      <td>0</td>\n",
       "      <td>2018-09-24</td>\n",
       "    </tr>\n",
       "    <tr>\n",
       "      <th>2</th>\n",
       "      <td>0</td>\n",
       "      <td>2019-03-18</td>\n",
       "      <td>3.0</td>\n",
       "      <td>post-launch</td>\n",
       "      <td>0</td>\n",
       "      <td>2018-09-24</td>\n",
       "    </tr>\n",
       "    <tr>\n",
       "      <th>3</th>\n",
       "      <td>0</td>\n",
       "      <td>2019-03-22</td>\n",
       "      <td>4.0</td>\n",
       "      <td>post-launch</td>\n",
       "      <td>0</td>\n",
       "      <td>2018-09-24</td>\n",
       "    </tr>\n",
       "    <tr>\n",
       "      <th>4</th>\n",
       "      <td>0</td>\n",
       "      <td>2019-04-03</td>\n",
       "      <td>9.0</td>\n",
       "      <td>post-launch</td>\n",
       "      <td>0</td>\n",
       "      <td>2018-09-24</td>\n",
       "    </tr>\n",
       "    <tr>\n",
       "      <th>...</th>\n",
       "      <td>...</td>\n",
       "      <td>...</td>\n",
       "      <td>...</td>\n",
       "      <td>...</td>\n",
       "      <td>...</td>\n",
       "      <td>...</td>\n",
       "    </tr>\n",
       "    <tr>\n",
       "      <th>2256152</th>\n",
       "      <td>49999</td>\n",
       "      <td>2018-09-15</td>\n",
       "      <td>5.0</td>\n",
       "      <td>pre-launch</td>\n",
       "      <td>1</td>\n",
       "      <td>2015-12-29</td>\n",
       "    </tr>\n",
       "    <tr>\n",
       "      <th>2256153</th>\n",
       "      <td>49999</td>\n",
       "      <td>2018-09-26</td>\n",
       "      <td>8.0</td>\n",
       "      <td>pre-launch</td>\n",
       "      <td>1</td>\n",
       "      <td>2015-12-29</td>\n",
       "    </tr>\n",
       "    <tr>\n",
       "      <th>2256154</th>\n",
       "      <td>49999</td>\n",
       "      <td>2018-10-20</td>\n",
       "      <td>29.0</td>\n",
       "      <td>pre-launch</td>\n",
       "      <td>1</td>\n",
       "      <td>2015-12-29</td>\n",
       "    </tr>\n",
       "    <tr>\n",
       "      <th>2256155</th>\n",
       "      <td>49999</td>\n",
       "      <td>2018-12-14</td>\n",
       "      <td>3.0</td>\n",
       "      <td>pre-launch</td>\n",
       "      <td>1</td>\n",
       "      <td>2015-12-29</td>\n",
       "    </tr>\n",
       "    <tr>\n",
       "      <th>2256156</th>\n",
       "      <td>49999</td>\n",
       "      <td>2019-01-28</td>\n",
       "      <td>32.0</td>\n",
       "      <td>pre-launch</td>\n",
       "      <td>1</td>\n",
       "      <td>2015-12-29</td>\n",
       "    </tr>\n",
       "  </tbody>\n",
       "</table>\n",
       "<p>2256157 rows × 6 columns</p>\n",
       "</div>"
      ],
      "text/plain": [
       "           uid          dt  active_mins       timing  variant_number  \\\n",
       "0            0  2019-02-22          5.0  post-launch               0   \n",
       "1            0  2019-03-11          5.0  post-launch               0   \n",
       "2            0  2019-03-18          3.0  post-launch               0   \n",
       "3            0  2019-03-22          4.0  post-launch               0   \n",
       "4            0  2019-04-03          9.0  post-launch               0   \n",
       "...        ...         ...          ...          ...             ...   \n",
       "2256152  49999  2018-09-15          5.0   pre-launch               1   \n",
       "2256153  49999  2018-09-26          8.0   pre-launch               1   \n",
       "2256154  49999  2018-10-20         29.0   pre-launch               1   \n",
       "2256155  49999  2018-12-14          3.0   pre-launch               1   \n",
       "2256156  49999  2019-01-28         32.0   pre-launch               1   \n",
       "\n",
       "        signup_date  \n",
       "0        2018-09-24  \n",
       "1        2018-09-24  \n",
       "2        2018-09-24  \n",
       "3        2018-09-24  \n",
       "4        2018-09-24  \n",
       "...             ...  \n",
       "2256152  2015-12-29  \n",
       "2256153  2015-12-29  \n",
       "2256154  2015-12-29  \n",
       "2256155  2015-12-29  \n",
       "2256156  2015-12-29  \n",
       "\n",
       "[2256157 rows x 6 columns]"
      ]
     },
     "execution_count": 45,
     "metadata": {},
     "output_type": "execute_result"
    }
   ],
   "source": [
    "groups_assigned2"
   ]
  },
  {
   "cell_type": "markdown",
   "metadata": {},
   "source": [
    "#### Now get stats from t-test from updated dataframe!"
   ]
  },
  {
   "cell_type": "code",
   "execution_count": 46,
   "metadata": {
    "ExecuteTime": {
     "end_time": "2021-10-01T05:28:51.519785Z",
     "start_time": "2021-10-01T05:28:50.989866Z"
    },
    "scrolled": true
   },
   "outputs": [
    {
     "data": {
      "text/plain": [
       "(     Variable          N       Mean         SD        SE  95% Conf.   Interval\n",
       " 0     control  1876143.0  19.267363  45.148098  0.032961  19.202760  19.331967\n",
       " 1  experiment   380014.0  18.279532  44.211077  0.071719  18.138966  18.420098\n",
       " 2    combined  2256157.0  19.100979  44.993148  0.029954  19.042269  19.159689,\n",
       "                      Independent t-test       results\n",
       " 0  Difference (control - experiment) =   9.878000e-01\n",
       " 1                 Degrees of freedom =   2.256155e+06\n",
       " 2                                  t =   1.234240e+01\n",
       " 3              Two side test p value =   0.000000e+00\n",
       " 4             Difference < 0 p value =   1.000000e+00\n",
       " 5             Difference > 0 p value =   0.000000e+00\n",
       " 6                          Cohen's d =   2.200000e-02\n",
       " 7                          Hedge's g =   2.200000e-02\n",
       " 8                      Glass's delta =   2.190000e-02\n",
       " 9                        Pearson's r =   8.200000e-03)"
      ]
     },
     "execution_count": 46,
     "metadata": {},
     "output_type": "execute_result"
    }
   ],
   "source": [
    "rp.ttest(group1= groups_assigned2['active_mins'][groups_assigned2['variant_number'] == 0], group1_name= \"control\",\n",
    "         group2= groups_assigned2['active_mins'][groups_assigned2['variant_number'] == 1], group2_name= \"experiment\")"
   ]
  },
  {
   "cell_type": "markdown",
   "metadata": {},
   "source": [
    "Please enter the lower bound of your confidence interval (e.g. if the confidence Interval is [-1.00, 2.00], enter -1.00)"
   ]
  },
  {
   "cell_type": "markdown",
   "metadata": {},
   "source": [
    "We are expecting everything to be in + or - minutes for the confidence interval."
   ]
  },
  {
   "cell_type": "code",
   "execution_count": 47,
   "metadata": {
    "ExecuteTime": {
     "end_time": "2021-10-01T05:28:51.551122Z",
     "start_time": "2021-10-01T05:28:51.537751Z"
    }
   },
   "outputs": [
    {
     "data": {
      "text/plain": [
       "19.04"
      ]
     },
     "execution_count": 47,
     "metadata": {},
     "output_type": "execute_result"
    }
   ],
   "source": [
    "19.04"
   ]
  },
  {
   "cell_type": "markdown",
   "metadata": {},
   "source": [
    "Please enter the upper bound of your confidence interval (e.g. if the confidence Interval is [-1.00, 2.00], enter 2.00)"
   ]
  },
  {
   "cell_type": "code",
   "execution_count": 48,
   "metadata": {
    "ExecuteTime": {
     "end_time": "2021-10-01T05:28:51.582411Z",
     "start_time": "2021-10-01T05:28:51.570137Z"
    }
   },
   "outputs": [
    {
     "data": {
      "text/plain": [
       "19.16"
      ]
     },
     "execution_count": 48,
     "metadata": {},
     "output_type": "execute_result"
    }
   ],
   "source": [
    "19.16"
   ]
  },
  {
   "cell_type": "markdown",
   "metadata": {},
   "source": [
    "This time, the experiment did worse!"
   ]
  },
  {
   "cell_type": "markdown",
   "metadata": {},
   "source": [
    "### Adding in user type data\n",
    "\n",
    "Deeper dive\n",
    "\n",
    "In real life, experiment results can be nuanced. We provide you now additionally table 4 (t4_user_attributes.csv), which might help you analyze the results better. You should think about the context of the experiment and hypothesize why the analysis above could be insufficient. Explore the data and share with us your insights!\n",
    "\n",
    "1. Given the new tables, were there any issues in treatment assignment? Was the treatment effect different for different covariates? \n",
    "\n",
    "2. Based on the new findings, what is your conclusion and what product recommendations would you make to the team?\n",
    "\n",
    "Summarize your findings in a brief write-up with up to 200 words, and include one or two plots that best represent your results. Submit a single PDF file, please."
   ]
  },
  {
   "cell_type": "markdown",
   "metadata": {},
   "source": [
    "Strategy: Look at also using t4 for different user activities, or can use date diff btn signup date and exp date to determine newness."
   ]
  },
  {
   "cell_type": "code",
   "execution_count": 49,
   "metadata": {
    "ExecuteTime": {
     "end_time": "2021-10-01T05:29:58.576410Z",
     "start_time": "2021-10-01T05:28:51.585459Z"
    }
   },
   "outputs": [],
   "source": [
    "#join in the t4 table\n",
    "\n",
    "q = \"\"\" \n",
    "    SELECT groups_assigned2.*, t4.user_type, t4.gender\n",
    "    \n",
    "    FROM groups_assigned2\n",
    "    LEFT JOIN t4\n",
    "    ON groups_assigned2.uid = t4.uid\n",
    " \n",
    "              \n",
    "\"\"\"\n",
    "\n",
    "all_users = pd.DataFrame(pysqldf(q))"
   ]
  },
  {
   "cell_type": "code",
   "execution_count": 50,
   "metadata": {
    "ExecuteTime": {
     "end_time": "2021-10-01T05:29:58.679903Z",
     "start_time": "2021-10-01T05:29:58.583598Z"
    }
   },
   "outputs": [
    {
     "data": {
      "text/html": [
       "<div>\n",
       "<style scoped>\n",
       "    .dataframe tbody tr th:only-of-type {\n",
       "        vertical-align: middle;\n",
       "    }\n",
       "\n",
       "    .dataframe tbody tr th {\n",
       "        vertical-align: top;\n",
       "    }\n",
       "\n",
       "    .dataframe thead th {\n",
       "        text-align: right;\n",
       "    }\n",
       "</style>\n",
       "<table border=\"1\" class=\"dataframe\">\n",
       "  <thead>\n",
       "    <tr style=\"text-align: right;\">\n",
       "      <th></th>\n",
       "      <th>uid</th>\n",
       "      <th>dt</th>\n",
       "      <th>active_mins</th>\n",
       "      <th>timing</th>\n",
       "      <th>variant_number</th>\n",
       "      <th>signup_date</th>\n",
       "      <th>user_type</th>\n",
       "      <th>gender</th>\n",
       "    </tr>\n",
       "  </thead>\n",
       "  <tbody>\n",
       "    <tr>\n",
       "      <th>0</th>\n",
       "      <td>0</td>\n",
       "      <td>2019-02-22</td>\n",
       "      <td>5.0</td>\n",
       "      <td>post-launch</td>\n",
       "      <td>0</td>\n",
       "      <td>2018-09-24</td>\n",
       "      <td>non_reader</td>\n",
       "      <td>male</td>\n",
       "    </tr>\n",
       "    <tr>\n",
       "      <th>1</th>\n",
       "      <td>0</td>\n",
       "      <td>2019-03-11</td>\n",
       "      <td>5.0</td>\n",
       "      <td>post-launch</td>\n",
       "      <td>0</td>\n",
       "      <td>2018-09-24</td>\n",
       "      <td>non_reader</td>\n",
       "      <td>male</td>\n",
       "    </tr>\n",
       "    <tr>\n",
       "      <th>2</th>\n",
       "      <td>0</td>\n",
       "      <td>2019-03-18</td>\n",
       "      <td>3.0</td>\n",
       "      <td>post-launch</td>\n",
       "      <td>0</td>\n",
       "      <td>2018-09-24</td>\n",
       "      <td>non_reader</td>\n",
       "      <td>male</td>\n",
       "    </tr>\n",
       "    <tr>\n",
       "      <th>3</th>\n",
       "      <td>0</td>\n",
       "      <td>2019-03-22</td>\n",
       "      <td>4.0</td>\n",
       "      <td>post-launch</td>\n",
       "      <td>0</td>\n",
       "      <td>2018-09-24</td>\n",
       "      <td>non_reader</td>\n",
       "      <td>male</td>\n",
       "    </tr>\n",
       "    <tr>\n",
       "      <th>4</th>\n",
       "      <td>0</td>\n",
       "      <td>2019-04-03</td>\n",
       "      <td>9.0</td>\n",
       "      <td>post-launch</td>\n",
       "      <td>0</td>\n",
       "      <td>2018-09-24</td>\n",
       "      <td>non_reader</td>\n",
       "      <td>male</td>\n",
       "    </tr>\n",
       "    <tr>\n",
       "      <th>...</th>\n",
       "      <td>...</td>\n",
       "      <td>...</td>\n",
       "      <td>...</td>\n",
       "      <td>...</td>\n",
       "      <td>...</td>\n",
       "      <td>...</td>\n",
       "      <td>...</td>\n",
       "      <td>...</td>\n",
       "    </tr>\n",
       "    <tr>\n",
       "      <th>2256152</th>\n",
       "      <td>49999</td>\n",
       "      <td>2018-09-15</td>\n",
       "      <td>5.0</td>\n",
       "      <td>pre-launch</td>\n",
       "      <td>1</td>\n",
       "      <td>2015-12-29</td>\n",
       "      <td>non_reader</td>\n",
       "      <td>female</td>\n",
       "    </tr>\n",
       "    <tr>\n",
       "      <th>2256153</th>\n",
       "      <td>49999</td>\n",
       "      <td>2018-09-26</td>\n",
       "      <td>8.0</td>\n",
       "      <td>pre-launch</td>\n",
       "      <td>1</td>\n",
       "      <td>2015-12-29</td>\n",
       "      <td>non_reader</td>\n",
       "      <td>female</td>\n",
       "    </tr>\n",
       "    <tr>\n",
       "      <th>2256154</th>\n",
       "      <td>49999</td>\n",
       "      <td>2018-10-20</td>\n",
       "      <td>29.0</td>\n",
       "      <td>pre-launch</td>\n",
       "      <td>1</td>\n",
       "      <td>2015-12-29</td>\n",
       "      <td>non_reader</td>\n",
       "      <td>female</td>\n",
       "    </tr>\n",
       "    <tr>\n",
       "      <th>2256155</th>\n",
       "      <td>49999</td>\n",
       "      <td>2018-12-14</td>\n",
       "      <td>3.0</td>\n",
       "      <td>pre-launch</td>\n",
       "      <td>1</td>\n",
       "      <td>2015-12-29</td>\n",
       "      <td>non_reader</td>\n",
       "      <td>female</td>\n",
       "    </tr>\n",
       "    <tr>\n",
       "      <th>2256156</th>\n",
       "      <td>49999</td>\n",
       "      <td>2019-01-28</td>\n",
       "      <td>32.0</td>\n",
       "      <td>pre-launch</td>\n",
       "      <td>1</td>\n",
       "      <td>2015-12-29</td>\n",
       "      <td>non_reader</td>\n",
       "      <td>female</td>\n",
       "    </tr>\n",
       "  </tbody>\n",
       "</table>\n",
       "<p>2256157 rows × 8 columns</p>\n",
       "</div>"
      ],
      "text/plain": [
       "           uid          dt  active_mins       timing  variant_number  \\\n",
       "0            0  2019-02-22          5.0  post-launch               0   \n",
       "1            0  2019-03-11          5.0  post-launch               0   \n",
       "2            0  2019-03-18          3.0  post-launch               0   \n",
       "3            0  2019-03-22          4.0  post-launch               0   \n",
       "4            0  2019-04-03          9.0  post-launch               0   \n",
       "...        ...         ...          ...          ...             ...   \n",
       "2256152  49999  2018-09-15          5.0   pre-launch               1   \n",
       "2256153  49999  2018-09-26          8.0   pre-launch               1   \n",
       "2256154  49999  2018-10-20         29.0   pre-launch               1   \n",
       "2256155  49999  2018-12-14          3.0   pre-launch               1   \n",
       "2256156  49999  2019-01-28         32.0   pre-launch               1   \n",
       "\n",
       "        signup_date   user_type  gender  \n",
       "0        2018-09-24  non_reader    male  \n",
       "1        2018-09-24  non_reader    male  \n",
       "2        2018-09-24  non_reader    male  \n",
       "3        2018-09-24  non_reader    male  \n",
       "4        2018-09-24  non_reader    male  \n",
       "...             ...         ...     ...  \n",
       "2256152  2015-12-29  non_reader  female  \n",
       "2256153  2015-12-29  non_reader  female  \n",
       "2256154  2015-12-29  non_reader  female  \n",
       "2256155  2015-12-29  non_reader  female  \n",
       "2256156  2015-12-29  non_reader  female  \n",
       "\n",
       "[2256157 rows x 8 columns]"
      ]
     },
     "execution_count": 50,
     "metadata": {},
     "output_type": "execute_result"
    }
   ],
   "source": [
    "all_users"
   ]
  },
  {
   "cell_type": "code",
   "execution_count": 53,
   "metadata": {
    "ExecuteTime": {
     "end_time": "2021-10-01T05:32:27.392887Z",
     "start_time": "2021-10-01T05:32:27.369901Z"
    }
   },
   "outputs": [
    {
     "data": {
      "text/plain": [
       "19.10097878826695"
      ]
     },
     "execution_count": 53,
     "metadata": {},
     "output_type": "execute_result"
    }
   ],
   "source": [
    "all_users['active_mins'].mean()"
   ]
  },
  {
   "cell_type": "markdown",
   "metadata": {},
   "source": [
    "### Averages by user type\n",
    "\n",
    "Let's compare what we get for each individual subset, using our variants as well as the different user types. Also consider cross-tabs.\n",
    "\n",
    "The hypothesis here is that we should see this classification of activity reflect in the engagement. Namely, I expect:\n",
    "\n",
    "- The most activity from contributors\n",
    "- The least activity from non-readers"
   ]
  },
  {
   "cell_type": "markdown",
   "metadata": {},
   "source": [
    "This breaks down to something like this, by slice:"
   ]
  },
  {
   "cell_type": "code",
   "execution_count": 58,
   "metadata": {
    "ExecuteTime": {
     "end_time": "2021-10-01T05:58:48.406312Z",
     "start_time": "2021-10-01T05:58:47.603084Z"
    }
   },
   "outputs": [
    {
     "data": {
      "text/plain": [
       "5.929434668844137"
      ]
     },
     "execution_count": 58,
     "metadata": {},
     "output_type": "execute_result"
    }
   ],
   "source": [
    "#control - non-readers\n",
    "\n",
    "all_users.loc[\n",
    "    (all_users[\n",
    "        \"variant_number\"] == 0) & (all_users[\"user_type\"] == 'non_reader')][\n",
    "    'active_mins'\n",
    "].mean()"
   ]
  },
  {
   "cell_type": "code",
   "execution_count": 59,
   "metadata": {
    "ExecuteTime": {
     "end_time": "2021-10-01T05:59:44.059036Z",
     "start_time": "2021-10-01T05:59:43.605477Z"
    }
   },
   "outputs": [
    {
     "data": {
      "text/plain": [
       "7.838953380464677"
      ]
     },
     "execution_count": 59,
     "metadata": {},
     "output_type": "execute_result"
    }
   ],
   "source": [
    "#experiment - non-readers\n",
    "\n",
    "all_users.loc[\n",
    "    (all_users[\n",
    "        \"variant_number\"] == 1) & (all_users[\"user_type\"] == 'non_reader')][\n",
    "    'active_mins'\n",
    "].mean()"
   ]
  },
  {
   "cell_type": "code",
   "execution_count": 60,
   "metadata": {
    "ExecuteTime": {
     "end_time": "2021-10-01T05:59:54.636493Z",
     "start_time": "2021-10-01T05:59:53.899991Z"
    }
   },
   "outputs": [
    {
     "data": {
      "text/plain": [
       "29.393337800973406"
      ]
     },
     "execution_count": 60,
     "metadata": {},
     "output_type": "execute_result"
    }
   ],
   "source": [
    "#control - readers\n",
    "\n",
    "all_users.loc[\n",
    "    (all_users[\n",
    "        \"variant_number\"] == 0) & (all_users[\"user_type\"] == 'reader')][\n",
    "    'active_mins'\n",
    "].mean()"
   ]
  },
  {
   "cell_type": "code",
   "execution_count": 61,
   "metadata": {
    "ExecuteTime": {
     "end_time": "2021-10-01T06:00:03.268360Z",
     "start_time": "2021-10-01T06:00:02.854890Z"
    }
   },
   "outputs": [
    {
     "data": {
      "text/plain": [
       "32.88854519485819"
      ]
     },
     "execution_count": 61,
     "metadata": {},
     "output_type": "execute_result"
    }
   ],
   "source": [
    "#experiment - readers\n",
    "\n",
    "all_users.loc[\n",
    "    (all_users[\n",
    "        \"variant_number\"] == 1) & (all_users[\"user_type\"] == 'reader')][\n",
    "    'active_mins'\n",
    "].mean()"
   ]
  },
  {
   "cell_type": "code",
   "execution_count": 62,
   "metadata": {
    "ExecuteTime": {
     "end_time": "2021-10-01T06:00:34.242328Z",
     "start_time": "2021-10-01T06:00:33.883388Z"
    }
   },
   "outputs": [
    {
     "data": {
      "text/plain": [
       "5.12800557556046"
      ]
     },
     "execution_count": 62,
     "metadata": {},
     "output_type": "execute_result"
    }
   ],
   "source": [
    "#control - new users\n",
    "\n",
    "all_users.loc[\n",
    "    (all_users[\n",
    "        \"variant_number\"] == 0) & (all_users[\"user_type\"] == 'new_user')][\n",
    "    'active_mins'\n",
    "].mean()"
   ]
  },
  {
   "cell_type": "code",
   "execution_count": 63,
   "metadata": {
    "ExecuteTime": {
     "end_time": "2021-10-01T06:00:46.824392Z",
     "start_time": "2021-10-01T06:00:46.446359Z"
    }
   },
   "outputs": [
    {
     "data": {
      "text/plain": [
       "8.191169255928045"
      ]
     },
     "execution_count": 63,
     "metadata": {},
     "output_type": "execute_result"
    }
   ],
   "source": [
    "#experiment - new users\n",
    "\n",
    "all_users.loc[\n",
    "    (all_users[\n",
    "        \"variant_number\"] == 1) & (all_users[\"user_type\"] == 'new_user')][\n",
    "    'active_mins'\n",
    "].mean()"
   ]
  },
  {
   "cell_type": "code",
   "execution_count": 64,
   "metadata": {
    "ExecuteTime": {
     "end_time": "2021-10-01T06:00:55.303849Z",
     "start_time": "2021-10-01T06:00:54.900853Z"
    }
   },
   "outputs": [
    {
     "data": {
      "text/plain": [
       "67.16043192906066"
      ]
     },
     "execution_count": 64,
     "metadata": {},
     "output_type": "execute_result"
    }
   ],
   "source": [
    "#control - contributors\n",
    "\n",
    "all_users.loc[\n",
    "    (all_users[\n",
    "        \"variant_number\"] == 0) & (all_users[\"user_type\"] == 'contributor')][\n",
    "    'active_mins'\n",
    "].mean()"
   ]
  },
  {
   "cell_type": "code",
   "execution_count": 65,
   "metadata": {
    "ExecuteTime": {
     "end_time": "2021-10-01T06:01:10.707812Z",
     "start_time": "2021-10-01T06:01:10.331907Z"
    }
   },
   "outputs": [
    {
     "data": {
      "text/plain": [
       "70.48476163847337"
      ]
     },
     "execution_count": 65,
     "metadata": {},
     "output_type": "execute_result"
    }
   ],
   "source": [
    "#experiment -- contributors\n",
    "\n",
    "all_users.loc[\n",
    "    (all_users[\n",
    "        \"variant_number\"] == 1) & (all_users[\"user_type\"] == 'contributor')][\n",
    "    'active_mins'\n",
    "].mean()"
   ]
  },
  {
   "cell_type": "markdown",
   "metadata": {},
   "source": [
    "Wow! There is a SUBSTANTIAL difference in activity across the different user types! Moreover, each slice shows a fairly substantial improvement in activity for the experiment. We should therefore stick with launching the experiment!\n",
    "\n",
    "That is, at first glance.\n",
    "\n",
    "Let's see, what happens if we dig a little deeper, though."
   ]
  },
  {
   "cell_type": "code",
   "execution_count": 92,
   "metadata": {
    "ExecuteTime": {
     "end_time": "2021-10-01T06:57:32.520257Z",
     "start_time": "2021-10-01T06:57:31.188760Z"
    },
    "scrolled": true
   },
   "outputs": [
    {
     "data": {
      "text/html": [
       "<div>\n",
       "<style scoped>\n",
       "    .dataframe tbody tr th:only-of-type {\n",
       "        vertical-align: middle;\n",
       "    }\n",
       "\n",
       "    .dataframe tbody tr th {\n",
       "        vertical-align: top;\n",
       "    }\n",
       "\n",
       "    .dataframe thead th {\n",
       "        text-align: right;\n",
       "    }\n",
       "</style>\n",
       "<table border=\"1\" class=\"dataframe\">\n",
       "  <thead>\n",
       "    <tr style=\"text-align: right;\">\n",
       "      <th></th>\n",
       "      <th></th>\n",
       "      <th></th>\n",
       "      <th>active_mins</th>\n",
       "    </tr>\n",
       "    <tr>\n",
       "      <th>user_type</th>\n",
       "      <th>gender</th>\n",
       "      <th>variant_number</th>\n",
       "      <th></th>\n",
       "    </tr>\n",
       "  </thead>\n",
       "  <tbody>\n",
       "    <tr>\n",
       "      <th rowspan=\"6\" valign=\"top\">contributor</th>\n",
       "      <th rowspan=\"2\" valign=\"top\">female</th>\n",
       "      <th>0</th>\n",
       "      <td>55.424233</td>\n",
       "    </tr>\n",
       "    <tr>\n",
       "      <th>1</th>\n",
       "      <td>49.386876</td>\n",
       "    </tr>\n",
       "    <tr>\n",
       "      <th rowspan=\"2\" valign=\"top\">male</th>\n",
       "      <th>0</th>\n",
       "      <td>70.228024</td>\n",
       "    </tr>\n",
       "    <tr>\n",
       "      <th>1</th>\n",
       "      <td>78.052642</td>\n",
       "    </tr>\n",
       "    <tr>\n",
       "      <th rowspan=\"2\" valign=\"top\">unknown</th>\n",
       "      <th>0</th>\n",
       "      <td>70.696211</td>\n",
       "    </tr>\n",
       "    <tr>\n",
       "      <th>1</th>\n",
       "      <td>65.207156</td>\n",
       "    </tr>\n",
       "    <tr>\n",
       "      <th rowspan=\"6\" valign=\"top\">new_user</th>\n",
       "      <th rowspan=\"2\" valign=\"top\">female</th>\n",
       "      <th>0</th>\n",
       "      <td>4.934810</td>\n",
       "    </tr>\n",
       "    <tr>\n",
       "      <th>1</th>\n",
       "      <td>7.814208</td>\n",
       "    </tr>\n",
       "    <tr>\n",
       "      <th rowspan=\"2\" valign=\"top\">male</th>\n",
       "      <th>0</th>\n",
       "      <td>5.297988</td>\n",
       "    </tr>\n",
       "    <tr>\n",
       "      <th>1</th>\n",
       "      <td>8.319577</td>\n",
       "    </tr>\n",
       "    <tr>\n",
       "      <th rowspan=\"2\" valign=\"top\">unknown</th>\n",
       "      <th>0</th>\n",
       "      <td>5.028816</td>\n",
       "    </tr>\n",
       "    <tr>\n",
       "      <th>1</th>\n",
       "      <td>8.535881</td>\n",
       "    </tr>\n",
       "    <tr>\n",
       "      <th rowspan=\"6\" valign=\"top\">non_reader</th>\n",
       "      <th rowspan=\"2\" valign=\"top\">female</th>\n",
       "      <th>0</th>\n",
       "      <td>6.044655</td>\n",
       "    </tr>\n",
       "    <tr>\n",
       "      <th>1</th>\n",
       "      <td>7.534075</td>\n",
       "    </tr>\n",
       "    <tr>\n",
       "      <th rowspan=\"2\" valign=\"top\">male</th>\n",
       "      <th>0</th>\n",
       "      <td>5.944674</td>\n",
       "    </tr>\n",
       "    <tr>\n",
       "      <th>1</th>\n",
       "      <td>8.045673</td>\n",
       "    </tr>\n",
       "    <tr>\n",
       "      <th rowspan=\"2\" valign=\"top\">unknown</th>\n",
       "      <th>0</th>\n",
       "      <td>5.670401</td>\n",
       "    </tr>\n",
       "    <tr>\n",
       "      <th>1</th>\n",
       "      <td>7.495626</td>\n",
       "    </tr>\n",
       "    <tr>\n",
       "      <th rowspan=\"6\" valign=\"top\">reader</th>\n",
       "      <th rowspan=\"2\" valign=\"top\">female</th>\n",
       "      <th>0</th>\n",
       "      <td>27.043428</td>\n",
       "    </tr>\n",
       "    <tr>\n",
       "      <th>1</th>\n",
       "      <td>30.889909</td>\n",
       "    </tr>\n",
       "    <tr>\n",
       "      <th rowspan=\"2\" valign=\"top\">male</th>\n",
       "      <th>0</th>\n",
       "      <td>30.369335</td>\n",
       "    </tr>\n",
       "    <tr>\n",
       "      <th>1</th>\n",
       "      <td>33.050439</td>\n",
       "    </tr>\n",
       "    <tr>\n",
       "      <th rowspan=\"2\" valign=\"top\">unknown</th>\n",
       "      <th>0</th>\n",
       "      <td>28.840462</td>\n",
       "    </tr>\n",
       "    <tr>\n",
       "      <th>1</th>\n",
       "      <td>35.846233</td>\n",
       "    </tr>\n",
       "  </tbody>\n",
       "</table>\n",
       "</div>"
      ],
      "text/plain": [
       "                                    active_mins\n",
       "user_type   gender  variant_number             \n",
       "contributor female  0                 55.424233\n",
       "                    1                 49.386876\n",
       "            male    0                 70.228024\n",
       "                    1                 78.052642\n",
       "            unknown 0                 70.696211\n",
       "                    1                 65.207156\n",
       "new_user    female  0                  4.934810\n",
       "                    1                  7.814208\n",
       "            male    0                  5.297988\n",
       "                    1                  8.319577\n",
       "            unknown 0                  5.028816\n",
       "                    1                  8.535881\n",
       "non_reader  female  0                  6.044655\n",
       "                    1                  7.534075\n",
       "            male    0                  5.944674\n",
       "                    1                  8.045673\n",
       "            unknown 0                  5.670401\n",
       "                    1                  7.495626\n",
       "reader      female  0                 27.043428\n",
       "                    1                 30.889909\n",
       "            male    0                 30.369335\n",
       "                    1                 33.050439\n",
       "            unknown 0                 28.840462\n",
       "                    1                 35.846233"
      ]
     },
     "execution_count": 92,
     "metadata": {},
     "output_type": "execute_result"
    }
   ],
   "source": [
    "#from https://pandas.pydata.org/docs/reference/api/pandas.pivot_table.html\n",
    "\n",
    "#pd.pivot_table(df, values = ['column1', 'column2'], index=['A', 'C'],\n",
    "#                    aggfunc={'D': np.mean,\n",
    "#                             'E': np.mean})\n",
    "\n",
    "pivot = pd.pivot_table(\n",
    "    all_users, values=['active_mins'], index=[\n",
    "        'user_type', 'gender', 'variant_number'], #can also include timing but gets noisy\n",
    "              aggfunc={\n",
    "                  'active_mins': np.mean\n",
    "              })\n",
    "\n",
    "pivot"
   ]
  },
  {
   "cell_type": "markdown",
   "metadata": {},
   "source": [
    "Interestingly enough, the experiment performed better for each group, with the exception of contributor females and contributors of unknown gender! So, we might want to further look into why this might be the case, before rolling out the feature to contributors."
   ]
  },
  {
   "cell_type": "markdown",
   "metadata": {},
   "source": [
    "### Visualizations"
   ]
  },
  {
   "cell_type": "code",
   "execution_count": 94,
   "metadata": {
    "ExecuteTime": {
     "end_time": "2021-10-01T07:03:15.930201Z",
     "start_time": "2021-10-01T07:03:15.470260Z"
    },
    "scrolled": true
   },
   "outputs": [
    {
     "data": {
      "image/png": "[encoded data removed]",
      "text/plain": [
       "<Figure size 864x1008 with 1 Axes>"
      ]
     },
     "metadata": {
      "needs_background": "light"
     },
     "output_type": "display_data"
    }
   ],
   "source": [
    "pivot.plot(\n",
    "    kind='barh', \n",
    "    figsize = (12, 14),\n",
    "    title = 'Engagement by user type across control and experiment',\n",
    "    grid = 1,\n",
    "    fontsize = 12\n",
    ");"
   ]
  },
  {
   "cell_type": "code",
   "execution_count": 104,
   "metadata": {
    "ExecuteTime": {
     "end_time": "2021-10-01T07:22:11.428784Z",
     "start_time": "2021-10-01T07:21:24.730095Z"
    },
    "scrolled": true
   },
   "outputs": [
    {
     "data": {
      "text/html": [
       "<div>\n",
       "<style scoped>\n",
       "    .dataframe tbody tr th:only-of-type {\n",
       "        vertical-align: middle;\n",
       "    }\n",
       "\n",
       "    .dataframe tbody tr th {\n",
       "        vertical-align: top;\n",
       "    }\n",
       "\n",
       "    .dataframe thead th {\n",
       "        text-align: right;\n",
       "    }\n",
       "</style>\n",
       "<table border=\"1\" class=\"dataframe\">\n",
       "  <thead>\n",
       "    <tr style=\"text-align: right;\">\n",
       "      <th></th>\n",
       "      <th>uid</th>\n",
       "      <th>user_type</th>\n",
       "      <th>variant_number</th>\n",
       "      <th>gender</th>\n",
       "      <th>active_mins</th>\n",
       "      <th>days_active</th>\n",
       "    </tr>\n",
       "  </thead>\n",
       "  <tbody>\n",
       "    <tr>\n",
       "      <th>0</th>\n",
       "      <td>24028</td>\n",
       "      <td>reader</td>\n",
       "      <td>0</td>\n",
       "      <td>male</td>\n",
       "      <td>112.0</td>\n",
       "      <td>235</td>\n",
       "    </tr>\n",
       "    <tr>\n",
       "      <th>1</th>\n",
       "      <td>9150</td>\n",
       "      <td>reader</td>\n",
       "      <td>0</td>\n",
       "      <td>male</td>\n",
       "      <td>107.0</td>\n",
       "      <td>231</td>\n",
       "    </tr>\n",
       "    <tr>\n",
       "      <th>2</th>\n",
       "      <td>3313</td>\n",
       "      <td>contributor</td>\n",
       "      <td>0</td>\n",
       "      <td>male</td>\n",
       "      <td>146.0</td>\n",
       "      <td>231</td>\n",
       "    </tr>\n",
       "    <tr>\n",
       "      <th>3</th>\n",
       "      <td>30000</td>\n",
       "      <td>contributor</td>\n",
       "      <td>0</td>\n",
       "      <td>male</td>\n",
       "      <td>246.0</td>\n",
       "      <td>230</td>\n",
       "    </tr>\n",
       "    <tr>\n",
       "      <th>4</th>\n",
       "      <td>39381</td>\n",
       "      <td>reader</td>\n",
       "      <td>0</td>\n",
       "      <td>male</td>\n",
       "      <td>21.0</td>\n",
       "      <td>229</td>\n",
       "    </tr>\n",
       "    <tr>\n",
       "      <th>...</th>\n",
       "      <td>...</td>\n",
       "      <td>...</td>\n",
       "      <td>...</td>\n",
       "      <td>...</td>\n",
       "      <td>...</td>\n",
       "      <td>...</td>\n",
       "    </tr>\n",
       "    <tr>\n",
       "      <th>49847</th>\n",
       "      <td>135</td>\n",
       "      <td>new_user</td>\n",
       "      <td>0</td>\n",
       "      <td>male</td>\n",
       "      <td>1.0</td>\n",
       "      <td>1</td>\n",
       "    </tr>\n",
       "    <tr>\n",
       "      <th>49848</th>\n",
       "      <td>126</td>\n",
       "      <td>new_user</td>\n",
       "      <td>0</td>\n",
       "      <td>female</td>\n",
       "      <td>5.0</td>\n",
       "      <td>1</td>\n",
       "    </tr>\n",
       "    <tr>\n",
       "      <th>49849</th>\n",
       "      <td>111</td>\n",
       "      <td>new_user</td>\n",
       "      <td>0</td>\n",
       "      <td>male</td>\n",
       "      <td>4.0</td>\n",
       "      <td>1</td>\n",
       "    </tr>\n",
       "    <tr>\n",
       "      <th>49850</th>\n",
       "      <td>104</td>\n",
       "      <td>new_user</td>\n",
       "      <td>0</td>\n",
       "      <td>female</td>\n",
       "      <td>3.0</td>\n",
       "      <td>1</td>\n",
       "    </tr>\n",
       "    <tr>\n",
       "      <th>49851</th>\n",
       "      <td>94</td>\n",
       "      <td>new_user</td>\n",
       "      <td>0</td>\n",
       "      <td>female</td>\n",
       "      <td>3.0</td>\n",
       "      <td>1</td>\n",
       "    </tr>\n",
       "  </tbody>\n",
       "</table>\n",
       "<p>49852 rows × 6 columns</p>\n",
       "</div>"
      ],
      "text/plain": [
       "         uid    user_type  variant_number  gender  active_mins  days_active\n",
       "0      24028       reader               0    male        112.0          235\n",
       "1       9150       reader               0    male        107.0          231\n",
       "2       3313  contributor               0    male        146.0          231\n",
       "3      30000  contributor               0    male        246.0          230\n",
       "4      39381       reader               0    male         21.0          229\n",
       "...      ...          ...             ...     ...          ...          ...\n",
       "49847    135     new_user               0    male          1.0            1\n",
       "49848    126     new_user               0  female          5.0            1\n",
       "49849    111     new_user               0    male          4.0            1\n",
       "49850    104     new_user               0  female          3.0            1\n",
       "49851     94     new_user               0  female          3.0            1\n",
       "\n",
       "[49852 rows x 6 columns]"
      ]
     },
     "execution_count": 104,
     "metadata": {},
     "output_type": "execute_result"
    }
   ],
   "source": [
    "#add days or years active\n",
    "\n",
    "q = \"\"\"\n",
    "    SELECT uid, \n",
    "        user_type, \n",
    "        variant_number,\n",
    "        gender,\n",
    "        active_mins,\n",
    "        COUNT(uid) AS days_active \n",
    "        \n",
    "    FROM all_users\n",
    "    GROUP BY uid           \n",
    "    ORDER BY days_active DESC\n",
    "         \n",
    "              \n",
    "\"\"\"\n",
    "\n",
    "days_active = pysqldf(q)\n",
    "\n",
    "days_active"
   ]
  },
  {
   "cell_type": "code",
   "execution_count": 109,
   "metadata": {
    "ExecuteTime": {
     "end_time": "2021-10-01T07:26:35.609557Z",
     "start_time": "2021-10-01T07:26:35.191910Z"
    },
    "scrolled": false
   },
   "outputs": [
    {
     "data": {
      "text/plain": [
       "Text(0, 0.5, 'Active minutes')"
      ]
     },
     "execution_count": 109,
     "metadata": {},
     "output_type": "execute_result"
    },
    {
     "data": {
      "image/png": "[encoded data removed]",
      "text/plain": [
       "<Figure size 432x288 with 1 Axes>"
      ]
     },
     "metadata": {
      "needs_background": "light"
     },
     "output_type": "display_data"
    }
   ],
   "source": [
    "plt.scatter(data = days_active, x = 'days_active', y = 'active_mins');\n",
    "plt.title('User activity over time')\n",
    "plt.xlabel('Days active')\n",
    "plt.ylabel('Active minutes')"
   ]
  },
  {
   "cell_type": "code",
   "execution_count": 115,
   "metadata": {
    "ExecuteTime": {
     "end_time": "2021-10-01T07:31:23.148607Z",
     "start_time": "2021-10-01T07:31:23.106802Z"
    }
   },
   "outputs": [
    {
     "data": {
      "text/html": [
       "<div>\n",
       "<style scoped>\n",
       "    .dataframe tbody tr th:only-of-type {\n",
       "        vertical-align: middle;\n",
       "    }\n",
       "\n",
       "    .dataframe tbody tr th {\n",
       "        vertical-align: top;\n",
       "    }\n",
       "\n",
       "    .dataframe thead th {\n",
       "        text-align: right;\n",
       "    }\n",
       "</style>\n",
       "<table border=\"1\" class=\"dataframe\">\n",
       "  <thead>\n",
       "    <tr style=\"text-align: right;\">\n",
       "      <th></th>\n",
       "      <th>active_mins</th>\n",
       "      <th>days_active</th>\n",
       "    </tr>\n",
       "    <tr>\n",
       "      <th>user_type</th>\n",
       "      <th></th>\n",
       "      <th></th>\n",
       "    </tr>\n",
       "  </thead>\n",
       "  <tbody>\n",
       "    <tr>\n",
       "      <th>contributor</th>\n",
       "      <td>66.217433</td>\n",
       "      <td>134.252874</td>\n",
       "    </tr>\n",
       "    <tr>\n",
       "      <th>new_user</th>\n",
       "      <td>4.268445</td>\n",
       "      <td>4.863068</td>\n",
       "    </tr>\n",
       "    <tr>\n",
       "      <th>non_reader</th>\n",
       "      <td>4.911603</td>\n",
       "      <td>34.200567</td>\n",
       "    </tr>\n",
       "    <tr>\n",
       "      <th>reader</th>\n",
       "      <td>27.772307</td>\n",
       "      <td>107.619345</td>\n",
       "    </tr>\n",
       "  </tbody>\n",
       "</table>\n",
       "</div>"
      ],
      "text/plain": [
       "             active_mins  days_active\n",
       "user_type                            \n",
       "contributor    66.217433   134.252874\n",
       "new_user        4.268445     4.863068\n",
       "non_reader      4.911603    34.200567\n",
       "reader         27.772307   107.619345"
      ]
     },
     "execution_count": 115,
     "metadata": {},
     "output_type": "execute_result"
    }
   ],
   "source": [
    "pivot2 = pd.pivot_table(\n",
    "    days_active, values=['active_mins', 'days_active'], index=[\n",
    "        'user_type'], #, 'variant_number'], #can also include gender, timing but gets noisy\n",
    "              aggfunc={\n",
    "                  'active_mins': np.mean,\n",
    "                  'days_active': np.mean\n",
    "              })\n",
    "\n",
    "pivot2"
   ]
  },
  {
   "cell_type": "markdown",
   "metadata": {},
   "source": [
    "## Conclusions"
   ]
  },
  {
   "cell_type": "markdown",
   "metadata": {},
   "source": [
    "There may have been some issues with experiment design.\n",
    "\n",
    "There is something very bizarre in the control group's behavior. Perhaps it's seasonality or something else, but we should not be seeing such drastic changes in the control group overtime. So, this needs to be studied further.\n",
    "\n",
    "It is also bizarre that we would see any differences between control and experiment groups prior to the launch of the experiment. This gives me pause as to how those groups were selected.\n",
    "\n",
    "In addition, there may be other nuances with the user type classification. For instance, a user could both be new and a contributor, or a contributor and a reader. It might make sense to separate the user type from the activity level, in this case, or even have a separate category for users that fall into these multiple classes.\n",
    "\n",
    "Finally, we might take a step back and consider, where we might want to focus. The 80/20 rule probably applies here, in that our contributors, while comprising a much smaller proportion of users, are overall our most valuable users -- without their contribution of content, there won't be anything for the readers to read, after all -- so we should be careful launching features that might dissuade our contributors from partaking on the platform."
   ]
  }
 ],
 "metadata": {
  "kernelspec": {
   "display_name": "Python 3",
   "language": "python",
   "name": "python3"
  },
  "language_info": {
   "codemirror_mode": {
    "name": "ipython",
    "version": 3
   },
   "file_extension": ".py",
   "mimetype": "text/x-python",
   "name": "python",
   "nbconvert_exporter": "python",
   "pygments_lexer": "ipython3",
   "version": "3.8.3"
  },
  "toc": {
   "base_numbering": 1,
   "nav_menu": {},
   "number_sections": true,
   "sideBar": true,
   "skip_h1_title": false,
   "title_cell": "Table of Contents",
   "title_sidebar": "Contents",
   "toc_cell": false,
   "toc_position": {
    "height": "calc(100% - 180px)",
    "left": "10px",
    "top": "150px",
    "width": "426px"
   },
   "toc_section_display": true,
   "toc_window_display": true
  },
  "varInspector": {
   "cols": {
    "lenName": 16,
    "lenType": 16,
    "lenVar": 40
   },
   "kernels_config": {
    "python": {
     "delete_cmd_postfix": "",
     "delete_cmd_prefix": "del ",
     "library": "var_list.py",
     "varRefreshCmd": "print(var_dic_list())"
    },
    "r": {
     "delete_cmd_postfix": ") ",
     "delete_cmd_prefix": "rm(",
     "library": "var_list.r",
     "varRefreshCmd": "cat(var_dic_list()) "
    }
   },
   "types_to_exclude": [
    "module",
    "function",
    "builtin_function_or_method",
    "instance",
    "_Feature"
   ],
   "window_display": false
  }
 },
 "nbformat": 4,
 "nbformat_minor": 4
}
